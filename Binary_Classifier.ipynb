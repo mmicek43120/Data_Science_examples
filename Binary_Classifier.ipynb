{
 "cells": [
  {
   "cell_type": "code",
   "execution_count": 1,
   "id": "ae440e24-1c61-4ff9-ae5d-53f1afd41359",
   "metadata": {},
   "outputs": [],
   "source": [
    "#Binary classifier using a deep learning neural network"
   ]
  },
  {
   "cell_type": "code",
   "execution_count": 3,
   "id": "862aa5de-e728-4b2a-baab-931d2ceea4ad",
   "metadata": {},
   "outputs": [
    {
     "data": {
      "text/html": [
       "<div>\n",
       "<style scoped>\n",
       "    .dataframe tbody tr th:only-of-type {\n",
       "        vertical-align: middle;\n",
       "    }\n",
       "\n",
       "    .dataframe tbody tr th {\n",
       "        vertical-align: top;\n",
       "    }\n",
       "\n",
       "    .dataframe thead th {\n",
       "        text-align: right;\n",
       "    }\n",
       "</style>\n",
       "<table border=\"1\" class=\"dataframe\">\n",
       "  <thead>\n",
       "    <tr style=\"text-align: right;\">\n",
       "      <th></th>\n",
       "      <th>p</th>\n",
       "      <th>x</th>\n",
       "      <th>s</th>\n",
       "      <th>n</th>\n",
       "      <th>t</th>\n",
       "      <th>p.1</th>\n",
       "      <th>f</th>\n",
       "      <th>c</th>\n",
       "      <th>n.1</th>\n",
       "      <th>k</th>\n",
       "      <th>...</th>\n",
       "      <th>s.2</th>\n",
       "      <th>w</th>\n",
       "      <th>w.1</th>\n",
       "      <th>p.2</th>\n",
       "      <th>w.2</th>\n",
       "      <th>o</th>\n",
       "      <th>p.3</th>\n",
       "      <th>k.1</th>\n",
       "      <th>s.3</th>\n",
       "      <th>u</th>\n",
       "    </tr>\n",
       "  </thead>\n",
       "  <tbody>\n",
       "    <tr>\n",
       "      <th>0</th>\n",
       "      <td>e</td>\n",
       "      <td>x</td>\n",
       "      <td>s</td>\n",
       "      <td>y</td>\n",
       "      <td>t</td>\n",
       "      <td>a</td>\n",
       "      <td>f</td>\n",
       "      <td>c</td>\n",
       "      <td>b</td>\n",
       "      <td>k</td>\n",
       "      <td>...</td>\n",
       "      <td>s</td>\n",
       "      <td>w</td>\n",
       "      <td>w</td>\n",
       "      <td>p</td>\n",
       "      <td>w</td>\n",
       "      <td>o</td>\n",
       "      <td>p</td>\n",
       "      <td>n</td>\n",
       "      <td>n</td>\n",
       "      <td>g</td>\n",
       "    </tr>\n",
       "    <tr>\n",
       "      <th>1</th>\n",
       "      <td>e</td>\n",
       "      <td>b</td>\n",
       "      <td>s</td>\n",
       "      <td>w</td>\n",
       "      <td>t</td>\n",
       "      <td>l</td>\n",
       "      <td>f</td>\n",
       "      <td>c</td>\n",
       "      <td>b</td>\n",
       "      <td>n</td>\n",
       "      <td>...</td>\n",
       "      <td>s</td>\n",
       "      <td>w</td>\n",
       "      <td>w</td>\n",
       "      <td>p</td>\n",
       "      <td>w</td>\n",
       "      <td>o</td>\n",
       "      <td>p</td>\n",
       "      <td>n</td>\n",
       "      <td>n</td>\n",
       "      <td>m</td>\n",
       "    </tr>\n",
       "    <tr>\n",
       "      <th>2</th>\n",
       "      <td>p</td>\n",
       "      <td>x</td>\n",
       "      <td>y</td>\n",
       "      <td>w</td>\n",
       "      <td>t</td>\n",
       "      <td>p</td>\n",
       "      <td>f</td>\n",
       "      <td>c</td>\n",
       "      <td>n</td>\n",
       "      <td>n</td>\n",
       "      <td>...</td>\n",
       "      <td>s</td>\n",
       "      <td>w</td>\n",
       "      <td>w</td>\n",
       "      <td>p</td>\n",
       "      <td>w</td>\n",
       "      <td>o</td>\n",
       "      <td>p</td>\n",
       "      <td>k</td>\n",
       "      <td>s</td>\n",
       "      <td>u</td>\n",
       "    </tr>\n",
       "    <tr>\n",
       "      <th>3</th>\n",
       "      <td>e</td>\n",
       "      <td>x</td>\n",
       "      <td>s</td>\n",
       "      <td>g</td>\n",
       "      <td>f</td>\n",
       "      <td>n</td>\n",
       "      <td>f</td>\n",
       "      <td>w</td>\n",
       "      <td>b</td>\n",
       "      <td>k</td>\n",
       "      <td>...</td>\n",
       "      <td>s</td>\n",
       "      <td>w</td>\n",
       "      <td>w</td>\n",
       "      <td>p</td>\n",
       "      <td>w</td>\n",
       "      <td>o</td>\n",
       "      <td>e</td>\n",
       "      <td>n</td>\n",
       "      <td>a</td>\n",
       "      <td>g</td>\n",
       "    </tr>\n",
       "    <tr>\n",
       "      <th>4</th>\n",
       "      <td>e</td>\n",
       "      <td>x</td>\n",
       "      <td>y</td>\n",
       "      <td>y</td>\n",
       "      <td>t</td>\n",
       "      <td>a</td>\n",
       "      <td>f</td>\n",
       "      <td>c</td>\n",
       "      <td>b</td>\n",
       "      <td>n</td>\n",
       "      <td>...</td>\n",
       "      <td>s</td>\n",
       "      <td>w</td>\n",
       "      <td>w</td>\n",
       "      <td>p</td>\n",
       "      <td>w</td>\n",
       "      <td>o</td>\n",
       "      <td>p</td>\n",
       "      <td>k</td>\n",
       "      <td>n</td>\n",
       "      <td>g</td>\n",
       "    </tr>\n",
       "    <tr>\n",
       "      <th>...</th>\n",
       "      <td>...</td>\n",
       "      <td>...</td>\n",
       "      <td>...</td>\n",
       "      <td>...</td>\n",
       "      <td>...</td>\n",
       "      <td>...</td>\n",
       "      <td>...</td>\n",
       "      <td>...</td>\n",
       "      <td>...</td>\n",
       "      <td>...</td>\n",
       "      <td>...</td>\n",
       "      <td>...</td>\n",
       "      <td>...</td>\n",
       "      <td>...</td>\n",
       "      <td>...</td>\n",
       "      <td>...</td>\n",
       "      <td>...</td>\n",
       "      <td>...</td>\n",
       "      <td>...</td>\n",
       "      <td>...</td>\n",
       "      <td>...</td>\n",
       "    </tr>\n",
       "    <tr>\n",
       "      <th>8118</th>\n",
       "      <td>e</td>\n",
       "      <td>k</td>\n",
       "      <td>s</td>\n",
       "      <td>n</td>\n",
       "      <td>f</td>\n",
       "      <td>n</td>\n",
       "      <td>a</td>\n",
       "      <td>c</td>\n",
       "      <td>b</td>\n",
       "      <td>y</td>\n",
       "      <td>...</td>\n",
       "      <td>s</td>\n",
       "      <td>o</td>\n",
       "      <td>o</td>\n",
       "      <td>p</td>\n",
       "      <td>o</td>\n",
       "      <td>o</td>\n",
       "      <td>p</td>\n",
       "      <td>b</td>\n",
       "      <td>c</td>\n",
       "      <td>l</td>\n",
       "    </tr>\n",
       "    <tr>\n",
       "      <th>8119</th>\n",
       "      <td>e</td>\n",
       "      <td>x</td>\n",
       "      <td>s</td>\n",
       "      <td>n</td>\n",
       "      <td>f</td>\n",
       "      <td>n</td>\n",
       "      <td>a</td>\n",
       "      <td>c</td>\n",
       "      <td>b</td>\n",
       "      <td>y</td>\n",
       "      <td>...</td>\n",
       "      <td>s</td>\n",
       "      <td>o</td>\n",
       "      <td>o</td>\n",
       "      <td>p</td>\n",
       "      <td>n</td>\n",
       "      <td>o</td>\n",
       "      <td>p</td>\n",
       "      <td>b</td>\n",
       "      <td>v</td>\n",
       "      <td>l</td>\n",
       "    </tr>\n",
       "    <tr>\n",
       "      <th>8120</th>\n",
       "      <td>e</td>\n",
       "      <td>f</td>\n",
       "      <td>s</td>\n",
       "      <td>n</td>\n",
       "      <td>f</td>\n",
       "      <td>n</td>\n",
       "      <td>a</td>\n",
       "      <td>c</td>\n",
       "      <td>b</td>\n",
       "      <td>n</td>\n",
       "      <td>...</td>\n",
       "      <td>s</td>\n",
       "      <td>o</td>\n",
       "      <td>o</td>\n",
       "      <td>p</td>\n",
       "      <td>o</td>\n",
       "      <td>o</td>\n",
       "      <td>p</td>\n",
       "      <td>b</td>\n",
       "      <td>c</td>\n",
       "      <td>l</td>\n",
       "    </tr>\n",
       "    <tr>\n",
       "      <th>8121</th>\n",
       "      <td>p</td>\n",
       "      <td>k</td>\n",
       "      <td>y</td>\n",
       "      <td>n</td>\n",
       "      <td>f</td>\n",
       "      <td>y</td>\n",
       "      <td>f</td>\n",
       "      <td>c</td>\n",
       "      <td>n</td>\n",
       "      <td>b</td>\n",
       "      <td>...</td>\n",
       "      <td>k</td>\n",
       "      <td>w</td>\n",
       "      <td>w</td>\n",
       "      <td>p</td>\n",
       "      <td>w</td>\n",
       "      <td>o</td>\n",
       "      <td>e</td>\n",
       "      <td>w</td>\n",
       "      <td>v</td>\n",
       "      <td>l</td>\n",
       "    </tr>\n",
       "    <tr>\n",
       "      <th>8122</th>\n",
       "      <td>e</td>\n",
       "      <td>x</td>\n",
       "      <td>s</td>\n",
       "      <td>n</td>\n",
       "      <td>f</td>\n",
       "      <td>n</td>\n",
       "      <td>a</td>\n",
       "      <td>c</td>\n",
       "      <td>b</td>\n",
       "      <td>y</td>\n",
       "      <td>...</td>\n",
       "      <td>s</td>\n",
       "      <td>o</td>\n",
       "      <td>o</td>\n",
       "      <td>p</td>\n",
       "      <td>o</td>\n",
       "      <td>o</td>\n",
       "      <td>p</td>\n",
       "      <td>o</td>\n",
       "      <td>c</td>\n",
       "      <td>l</td>\n",
       "    </tr>\n",
       "  </tbody>\n",
       "</table>\n",
       "<p>8123 rows × 23 columns</p>\n",
       "</div>"
      ],
      "text/plain": [
       "      p  x  s  n  t p.1  f  c n.1  k  ... s.2  w w.1 p.2 w.2  o p.3 k.1 s.3  u\n",
       "0     e  x  s  y  t   a  f  c   b  k  ...   s  w   w   p   w  o   p   n   n  g\n",
       "1     e  b  s  w  t   l  f  c   b  n  ...   s  w   w   p   w  o   p   n   n  m\n",
       "2     p  x  y  w  t   p  f  c   n  n  ...   s  w   w   p   w  o   p   k   s  u\n",
       "3     e  x  s  g  f   n  f  w   b  k  ...   s  w   w   p   w  o   e   n   a  g\n",
       "4     e  x  y  y  t   a  f  c   b  n  ...   s  w   w   p   w  o   p   k   n  g\n",
       "...  .. .. .. .. ..  .. .. ..  .. ..  ...  .. ..  ..  ..  .. ..  ..  ..  .. ..\n",
       "8118  e  k  s  n  f   n  a  c   b  y  ...   s  o   o   p   o  o   p   b   c  l\n",
       "8119  e  x  s  n  f   n  a  c   b  y  ...   s  o   o   p   n  o   p   b   v  l\n",
       "8120  e  f  s  n  f   n  a  c   b  n  ...   s  o   o   p   o  o   p   b   c  l\n",
       "8121  p  k  y  n  f   y  f  c   n  b  ...   k  w   w   p   w  o   e   w   v  l\n",
       "8122  e  x  s  n  f   n  a  c   b  y  ...   s  o   o   p   o  o   p   o   c  l\n",
       "\n",
       "[8123 rows x 23 columns]"
      ]
     },
     "execution_count": 3,
     "metadata": {},
     "output_type": "execute_result"
    }
   ],
   "source": [
    "#normal imports and load our csv file into a dataframe\n",
    "import numpy as np\n",
    "import pandas as pd\n",
    "\n",
    "mushrooms_df = pd.read_csv('agaricus-lepiota.csv')\n",
    "mushrooms_df"
   ]
  },
  {
   "cell_type": "code",
   "execution_count": 4,
   "id": "5d880252-7519-4adb-8f26-6ce6c6a1c6b4",
   "metadata": {},
   "outputs": [
    {
     "name": "stdout",
     "output_type": "stream",
     "text": [
      "<class 'pandas.core.frame.DataFrame'>\n",
      "RangeIndex: 8123 entries, 0 to 8122\n",
      "Data columns (total 23 columns):\n",
      " #   Column  Non-Null Count  Dtype \n",
      "---  ------  --------------  ----- \n",
      " 0   p       8123 non-null   object\n",
      " 1   x       8123 non-null   object\n",
      " 2   s       8123 non-null   object\n",
      " 3   n       8123 non-null   object\n",
      " 4   t       8123 non-null   object\n",
      " 5   p.1     8123 non-null   object\n",
      " 6   f       8123 non-null   object\n",
      " 7   c       8123 non-null   object\n",
      " 8   n.1     8123 non-null   object\n",
      " 9   k       8123 non-null   object\n",
      " 10  e       8123 non-null   object\n",
      " 11  e.1     8123 non-null   object\n",
      " 12  s.1     8123 non-null   object\n",
      " 13  s.2     8123 non-null   object\n",
      " 14  w       8123 non-null   object\n",
      " 15  w.1     8123 non-null   object\n",
      " 16  p.2     8123 non-null   object\n",
      " 17  w.2     8123 non-null   object\n",
      " 18  o       8123 non-null   object\n",
      " 19  p.3     8123 non-null   object\n",
      " 20  k.1     8123 non-null   object\n",
      " 21  s.3     8123 non-null   object\n",
      " 22  u       8123 non-null   object\n",
      "dtypes: object(23)\n",
      "memory usage: 1.4+ MB\n"
     ]
    }
   ],
   "source": [
    "#check the dataframe for missing values\n",
    "mushrooms_df.info()"
   ]
  },
  {
   "cell_type": "code",
   "execution_count": 5,
   "id": "1b87f1b7-45ca-4468-8f0b-beb95d693ba0",
   "metadata": {},
   "outputs": [],
   "source": [
    "#split our original dataframe into a features set and a target set. Our target is column p and all other columns are my features.\n",
    "features_df = mushrooms_df.drop('p', axis=1)\n",
    "target_df = mushrooms_df['p']"
   ]
  },
  {
   "cell_type": "code",
   "execution_count": 6,
   "id": "2205a9e4-2739-4f45-9da2-c4db743852a0",
   "metadata": {},
   "outputs": [
    {
     "data": {
      "text/plain": [
       "0    e\n",
       "1    e\n",
       "2    p\n",
       "3    e\n",
       "4    e\n",
       "Name: p, dtype: object"
      ]
     },
     "execution_count": 6,
     "metadata": {},
     "output_type": "execute_result"
    }
   ],
   "source": [
    "#check our target df\n",
    "target_df.head()"
   ]
  },
  {
   "cell_type": "code",
   "execution_count": 7,
   "id": "7f8595be-e3e6-4f22-81dd-99783ec6bca3",
   "metadata": {},
   "outputs": [
    {
     "data": {
      "text/html": [
       "<div>\n",
       "<style scoped>\n",
       "    .dataframe tbody tr th:only-of-type {\n",
       "        vertical-align: middle;\n",
       "    }\n",
       "\n",
       "    .dataframe tbody tr th {\n",
       "        vertical-align: top;\n",
       "    }\n",
       "\n",
       "    .dataframe thead th {\n",
       "        text-align: right;\n",
       "    }\n",
       "</style>\n",
       "<table border=\"1\" class=\"dataframe\">\n",
       "  <thead>\n",
       "    <tr style=\"text-align: right;\">\n",
       "      <th></th>\n",
       "      <th>x</th>\n",
       "      <th>s</th>\n",
       "      <th>n</th>\n",
       "      <th>t</th>\n",
       "      <th>p.1</th>\n",
       "      <th>f</th>\n",
       "      <th>c</th>\n",
       "      <th>n.1</th>\n",
       "      <th>k</th>\n",
       "      <th>e</th>\n",
       "      <th>...</th>\n",
       "      <th>s.2</th>\n",
       "      <th>w</th>\n",
       "      <th>w.1</th>\n",
       "      <th>p.2</th>\n",
       "      <th>w.2</th>\n",
       "      <th>o</th>\n",
       "      <th>p.3</th>\n",
       "      <th>k.1</th>\n",
       "      <th>s.3</th>\n",
       "      <th>u</th>\n",
       "    </tr>\n",
       "  </thead>\n",
       "  <tbody>\n",
       "    <tr>\n",
       "      <th>0</th>\n",
       "      <td>x</td>\n",
       "      <td>s</td>\n",
       "      <td>y</td>\n",
       "      <td>t</td>\n",
       "      <td>a</td>\n",
       "      <td>f</td>\n",
       "      <td>c</td>\n",
       "      <td>b</td>\n",
       "      <td>k</td>\n",
       "      <td>e</td>\n",
       "      <td>...</td>\n",
       "      <td>s</td>\n",
       "      <td>w</td>\n",
       "      <td>w</td>\n",
       "      <td>p</td>\n",
       "      <td>w</td>\n",
       "      <td>o</td>\n",
       "      <td>p</td>\n",
       "      <td>n</td>\n",
       "      <td>n</td>\n",
       "      <td>g</td>\n",
       "    </tr>\n",
       "    <tr>\n",
       "      <th>1</th>\n",
       "      <td>b</td>\n",
       "      <td>s</td>\n",
       "      <td>w</td>\n",
       "      <td>t</td>\n",
       "      <td>l</td>\n",
       "      <td>f</td>\n",
       "      <td>c</td>\n",
       "      <td>b</td>\n",
       "      <td>n</td>\n",
       "      <td>e</td>\n",
       "      <td>...</td>\n",
       "      <td>s</td>\n",
       "      <td>w</td>\n",
       "      <td>w</td>\n",
       "      <td>p</td>\n",
       "      <td>w</td>\n",
       "      <td>o</td>\n",
       "      <td>p</td>\n",
       "      <td>n</td>\n",
       "      <td>n</td>\n",
       "      <td>m</td>\n",
       "    </tr>\n",
       "    <tr>\n",
       "      <th>2</th>\n",
       "      <td>x</td>\n",
       "      <td>y</td>\n",
       "      <td>w</td>\n",
       "      <td>t</td>\n",
       "      <td>p</td>\n",
       "      <td>f</td>\n",
       "      <td>c</td>\n",
       "      <td>n</td>\n",
       "      <td>n</td>\n",
       "      <td>e</td>\n",
       "      <td>...</td>\n",
       "      <td>s</td>\n",
       "      <td>w</td>\n",
       "      <td>w</td>\n",
       "      <td>p</td>\n",
       "      <td>w</td>\n",
       "      <td>o</td>\n",
       "      <td>p</td>\n",
       "      <td>k</td>\n",
       "      <td>s</td>\n",
       "      <td>u</td>\n",
       "    </tr>\n",
       "    <tr>\n",
       "      <th>3</th>\n",
       "      <td>x</td>\n",
       "      <td>s</td>\n",
       "      <td>g</td>\n",
       "      <td>f</td>\n",
       "      <td>n</td>\n",
       "      <td>f</td>\n",
       "      <td>w</td>\n",
       "      <td>b</td>\n",
       "      <td>k</td>\n",
       "      <td>t</td>\n",
       "      <td>...</td>\n",
       "      <td>s</td>\n",
       "      <td>w</td>\n",
       "      <td>w</td>\n",
       "      <td>p</td>\n",
       "      <td>w</td>\n",
       "      <td>o</td>\n",
       "      <td>e</td>\n",
       "      <td>n</td>\n",
       "      <td>a</td>\n",
       "      <td>g</td>\n",
       "    </tr>\n",
       "    <tr>\n",
       "      <th>4</th>\n",
       "      <td>x</td>\n",
       "      <td>y</td>\n",
       "      <td>y</td>\n",
       "      <td>t</td>\n",
       "      <td>a</td>\n",
       "      <td>f</td>\n",
       "      <td>c</td>\n",
       "      <td>b</td>\n",
       "      <td>n</td>\n",
       "      <td>e</td>\n",
       "      <td>...</td>\n",
       "      <td>s</td>\n",
       "      <td>w</td>\n",
       "      <td>w</td>\n",
       "      <td>p</td>\n",
       "      <td>w</td>\n",
       "      <td>o</td>\n",
       "      <td>p</td>\n",
       "      <td>k</td>\n",
       "      <td>n</td>\n",
       "      <td>g</td>\n",
       "    </tr>\n",
       "  </tbody>\n",
       "</table>\n",
       "<p>5 rows × 22 columns</p>\n",
       "</div>"
      ],
      "text/plain": [
       "   x  s  n  t p.1  f  c n.1  k  e  ... s.2  w w.1 p.2 w.2  o p.3 k.1 s.3  u\n",
       "0  x  s  y  t   a  f  c   b  k  e  ...   s  w   w   p   w  o   p   n   n  g\n",
       "1  b  s  w  t   l  f  c   b  n  e  ...   s  w   w   p   w  o   p   n   n  m\n",
       "2  x  y  w  t   p  f  c   n  n  e  ...   s  w   w   p   w  o   p   k   s  u\n",
       "3  x  s  g  f   n  f  w   b  k  t  ...   s  w   w   p   w  o   e   n   a  g\n",
       "4  x  y  y  t   a  f  c   b  n  e  ...   s  w   w   p   w  o   p   k   n  g\n",
       "\n",
       "[5 rows x 22 columns]"
      ]
     },
     "execution_count": 7,
     "metadata": {},
     "output_type": "execute_result"
    }
   ],
   "source": [
    "#check our features df\n",
    "features_df.head()"
   ]
  },
  {
   "cell_type": "code",
   "execution_count": 8,
   "id": "0a5a59d2-3156-4155-a69e-92ea2d7d5407",
   "metadata": {},
   "outputs": [],
   "source": [
    "#import for creating our training and test sets. Then create our training and test sets with 80% training size.\n",
    "from sklearn.model_selection import train_test_split\n",
    "\n",
    "X_train, X_test, y_train, y_test = train_test_split(features_df, target_df, train_size=0.8)"
   ]
  },
  {
   "cell_type": "code",
   "execution_count": 9,
   "id": "1ab9ac99-c212-4059-a9cc-58a22925b5c3",
   "metadata": {},
   "outputs": [],
   "source": [
    "#load our imports for onehotencodeing and labelencoding\n",
    "#In this cell we will labelencode our feature column\n",
    "#we do this by creating our label encoder object, then calling on the object to fit and transform the data\n",
    "\n",
    "from sklearn.preprocessing import OneHotEncoder, LabelEncoder\n",
    "\n",
    "label_encoder = LabelEncoder()\n",
    "\n",
    "#y_train_label_encoded = y_train\n",
    "y_train_label_encoded = label_encoder.fit_transform(y_train)\n",
    "\n",
    "\n",
    "#y_test_label_encoded = y_test\n",
    "y_test_label_encoded = label_encoder.fit_transform(y_test)"
   ]
  },
  {
   "cell_type": "code",
   "execution_count": 10,
   "id": "1348fb21-9156-4555-bfcb-43a0d6e0190d",
   "metadata": {},
   "outputs": [
    {
     "name": "stdout",
     "output_type": "stream",
     "text": [
      "[0 0 0 0 1 0 0 1 1]\n",
      "[0 1 0 1 0 0 1 1 1]\n"
     ]
    }
   ],
   "source": [
    "#Print some values to ensure our label encoder did in fact label encode\n",
    "\n",
    "print(y_train_label_encoded[0:9])\n",
    "print(y_test_label_encoded[0:9])"
   ]
  },
  {
   "cell_type": "code",
   "execution_count": 11,
   "id": "0cb28f8e-633e-4ecb-9823-4a7f6fc8b88b",
   "metadata": {},
   "outputs": [
    {
     "name": "stderr",
     "output_type": "stream",
     "text": [
      "C:\\Users\\mmice\\anaconda3\\envs\\dtsc680\\lib\\site-packages\\sklearn\\preprocessing\\_encoders.py:975: FutureWarning: `sparse` was renamed to `sparse_output` in version 1.2 and will be removed in 1.4. `sparse_output` is ignored unless you leave `sparse` to its default value.\n",
      "  warnings.warn(\n"
     ]
    }
   ],
   "source": [
    "#We will do the one hot encoding in this cell\n",
    "#I will set drop to 'first' for best practice and sparse = False to get my dense array\n",
    "#After creating the object for the onehotencoder, use it and call fit_transform on the training data and just transform on the test data\n",
    "#I do this because I want the test data to be encoded in the same way as the test data. Calling fit.transform on the test data gave me\n",
    "# 92 columns instead of 94 like the test data. Using transform created the necessary 94 columns. \n",
    "one_hot_encoder = OneHotEncoder(sparse = False, drop = 'first')\n",
    "\n",
    "#X_train_hot_encoded = X_train\n",
    "X_train_hot_encoded = one_hot_encoder.fit_transform(X_train)\n",
    "\n",
    "#X_test_hot_encoded = X_test\n",
    "X_test_hot_encoded = one_hot_encoder.transform(X_test)"
   ]
  },
  {
   "cell_type": "code",
   "execution_count": 13,
   "id": "328a78d8-36ce-440f-a7fc-7cb5e9349abb",
   "metadata": {},
   "outputs": [
    {
     "name": "stdout",
     "output_type": "stream",
     "text": [
      "Model: \"sequential\"\n",
      "_________________________________________________________________\n",
      " Layer (type)                Output Shape              Param #   \n",
      "=================================================================\n",
      " dense (Dense)               (None, 128)               12160     \n",
      "                                                                 \n",
      " dense_1 (Dense)             (None, 1)                 129       \n",
      "                                                                 \n",
      "=================================================================\n",
      "Total params: 12,289\n",
      "Trainable params: 12,289\n",
      "Non-trainable params: 0\n",
      "_________________________________________________________________\n"
     ]
    }
   ],
   "source": [
    "#create our neural network for binary classifiers. \n",
    "# I instantiate my model with the Sequential class\n",
    "# I create my first layer, making sure my input_dim is equal to my new number of features after one hot encoding\n",
    "# I use the standard output layer with 1 neuron and activation sigmoid\n",
    "# I use the standard compile parameters for creating a binary classifier. \n",
    "# I use the .summary() to check my network.\n",
    "import tensorflow as tf\n",
    "from tensorflow.keras.models import Sequential\n",
    "from tensorflow.keras.layers import Dense\n",
    "\n",
    "model = Sequential()\n",
    "\n",
    "model.add(Dense(128, activation='relu', input_dim=94))\n",
    "\n",
    "model.add(Dense(1,activation='sigmoid'))\n",
    "\n",
    "model.compile(optimizer='adam', loss='binary_crossentropy', metrics=['accuracy'])\n",
    "model.summary()"
   ]
  },
  {
   "cell_type": "code",
   "execution_count": 15,
   "id": "dcd789d3-42ef-499e-a914-f657d1f8fcf1",
   "metadata": {},
   "outputs": [
    {
     "name": "stdout",
     "output_type": "stream",
     "text": [
      "Epoch 1/10\n",
      "65/65 [==============================] - 1s 8ms/step - loss: 0.3101 - accuracy: 0.9003 - val_loss: 0.1115 - val_accuracy: 0.9680\n",
      "Epoch 2/10\n",
      "65/65 [==============================] - 0s 3ms/step - loss: 0.0699 - accuracy: 0.9849 - val_loss: 0.0358 - val_accuracy: 0.9945\n",
      "Epoch 3/10\n",
      "65/65 [==============================] - 0s 3ms/step - loss: 0.0274 - accuracy: 0.9972 - val_loss: 0.0178 - val_accuracy: 0.9975\n",
      "Epoch 4/10\n",
      "65/65 [==============================] - 0s 3ms/step - loss: 0.0139 - accuracy: 0.9988 - val_loss: 0.0106 - val_accuracy: 0.9988\n",
      "Epoch 5/10\n",
      "65/65 [==============================] - 0s 3ms/step - loss: 0.0085 - accuracy: 0.9991 - val_loss: 0.0071 - val_accuracy: 0.9988\n",
      "Epoch 6/10\n",
      "65/65 [==============================] - 0s 3ms/step - loss: 0.0055 - accuracy: 0.9997 - val_loss: 0.0047 - val_accuracy: 0.9994\n",
      "Epoch 7/10\n",
      "65/65 [==============================] - 0s 3ms/step - loss: 0.0038 - accuracy: 0.9998 - val_loss: 0.0035 - val_accuracy: 0.9994\n",
      "Epoch 8/10\n",
      "65/65 [==============================] - 0s 3ms/step - loss: 0.0028 - accuracy: 1.0000 - val_loss: 0.0027 - val_accuracy: 0.9994\n",
      "Epoch 9/10\n",
      "65/65 [==============================] - 0s 3ms/step - loss: 0.0021 - accuracy: 1.0000 - val_loss: 0.0021 - val_accuracy: 1.0000\n",
      "Epoch 10/10\n",
      "65/65 [==============================] - 0s 3ms/step - loss: 0.0017 - accuracy: 1.0000 - val_loss: 0.0017 - val_accuracy: 1.0000\n",
      "CPU times: total: 4.09 s\n",
      "Wall time: 3.1 s\n"
     ]
    }
   ],
   "source": [
    "%%time\n",
    "hist = model.fit(X_train_hot_encoded, y_train_label_encoded, validation_data=(X_test_hot_encoded, y_test_label_encoded), epochs=10, batch_size=100)\n",
    "\n",
    "# In order to fit my model, I use all of the encoded data, run with 10 epochs, and decide on a batch size of 100."
   ]
  },
  {
   "cell_type": "code",
   "execution_count": 16,
   "id": "7d34ec57-a7a0-4abc-b002-4c8bb3b8f3f3",
   "metadata": {},
   "outputs": [
    {
     "data": {
      "text/plain": [
       "[]"
      ]
     },
     "execution_count": 16,
     "metadata": {},
     "output_type": "execute_result"
    },
    {
     "data": {
      "image/png": "[encoded data removed]",
      "text/plain": [
       "<Figure size 640x480 with 1 Axes>"
      ]
     },
     "metadata": {},
     "output_type": "display_data"
    }
   ],
   "source": [
    "#plotting our training accuracy versus our validation accuracy\n",
    "\n",
    "%matplotlib inline\n",
    "import matplotlib.pyplot as plt\n",
    "import seaborn as sns\n",
    "sns.set()\n",
    "\n",
    "acc = hist.history['accuracy']\n",
    "val = hist.history['val_accuracy']\n",
    "epochs = range(1, len(acc) + 1)\n",
    "\n",
    "plt.plot(epochs, acc, '-', label='Training accuracy')\n",
    "plt.plot(epochs, val, ':', label='Validation accuracy')\n",
    "plt.title('Training and Validation Accuracy')\n",
    "plt.xlabel('Epoch')\n",
    "plt.ylabel('Accuracy')\n",
    "plt.legend(loc='lower right')\n",
    "plt.plot()"
   ]
  },
  {
   "cell_type": "code",
   "execution_count": 17,
   "id": "3d1bb388-6996-42b8-ba9d-3750851c8426",
   "metadata": {},
   "outputs": [
    {
     "name": "stdout",
     "output_type": "stream",
     "text": [
      "51/51 [==============================] - 0s 1ms/step\n"
     ]
    }
   ],
   "source": [
    "#creating our predictions for our confusion matrix and scores\n",
    "\n",
    "from sklearn.metrics import ConfusionMatrixDisplay as cmd\n",
    "from sklearn.metrics import accuracy_score, recall_score, f1_score, precision_score, ConfusionMatrixDisplay\n",
    "\n",
    "\n",
    "sns.reset_orig()\n",
    "y_predicted = model.predict(X_test_hot_encoded) > 0.5"
   ]
  },
  {
   "cell_type": "code",
   "execution_count": 18,
   "id": "418813d5-81c1-4762-9ed2-c7203fa9bcf3",
   "metadata": {},
   "outputs": [
    {
     "name": "stdout",
     "output_type": "stream",
     "text": [
      "Accuracy: 1.0000\n",
      "Recall: 1.0000\n",
      "F1 Score: 1.0000\n",
      "Precision: 1.0000\n"
     ]
    },
    {
     "data": {
      "text/plain": [
       "<sklearn.metrics._plot.confusion_matrix.ConfusionMatrixDisplay at 0x266bfebf190>"
      ]
     },
     "execution_count": 18,
     "metadata": {},
     "output_type": "execute_result"
    },
    {
     "data": {
      "image/png": "[encoded data removed]",
      "text/plain": [
       "<Figure size 640x480 with 2 Axes>"
      ]
     },
     "metadata": {},
     "output_type": "display_data"
    }
   ],
   "source": [
    "#use our predicted scores versus our y_test encoded data to calculate our scores\n",
    "# use our predictions versus our y_test encoded data to create our confusion matrix\n",
    "\n",
    "accuracy = accuracy_score(y_test_label_encoded, y_predicted)\n",
    "recall = recall_score(y_test_label_encoded, y_predicted)\n",
    "f1 = f1_score(y_test_label_encoded, y_predicted)\n",
    "precision = precision_score(y_test_label_encoded, y_predicted)\n",
    "\n",
    "print(f\"Accuracy: {accuracy:.4f}\")\n",
    "print(f\"Recall: {recall:.4f}\")\n",
    "print(f\"F1 Score: {f1:.4f}\")\n",
    "print(f\"Precision: {precision:.4f}\")\n",
    "\n",
    "\n",
    "labels = ['Negative', 'Positive']\n",
    "cmd.from_predictions(y_test_label_encoded, y_predicted, display_labels=labels, cmap='Blues', xticks_rotation='vertical')"
   ]
  },
  {
   "cell_type": "code",
   "execution_count": 19,
   "id": "566b6bc9-43a7-49fa-8a19-1ea929fc64d1",
   "metadata": {},
   "outputs": [],
   "source": [
    "#The model performed perfectly according to our confusion matrix"
   ]
  },
  {
   "cell_type": "code",
   "execution_count": 20,
   "id": "417b5944-677d-4f26-b3b8-96e7022a633f",
   "metadata": {},
   "outputs": [],
   "source": [
    "#create a pca model containing 95% if the variation\n",
    "# In order to do this we use the n_components = paramenter and set it equal to 0.95\n",
    "# Then we call fit_transform on the training data and just transform on the test data\n",
    "from sklearn.decomposition import PCA\n",
    "\n",
    "pca = PCA(n_components=0.95)\n",
    "pca_X_train = pca.fit_transform(X_train_hot_encoded)\n",
    "pca_X_test =  pca.transform(X_test_hot_encoded)"
   ]
  },
  {
   "cell_type": "code",
   "execution_count": 22,
   "id": "81248382-35ec-44a8-a228-47891cca4862",
   "metadata": {},
   "outputs": [
    {
     "name": "stdout",
     "output_type": "stream",
     "text": [
      "Model: \"sequential_1\"\n",
      "_________________________________________________________________\n",
      " Layer (type)                Output Shape              Param #   \n",
      "=================================================================\n",
      " dense_2 (Dense)             (None, 128)               4992      \n",
      "                                                                 \n",
      " dense_3 (Dense)             (None, 1)                 129       \n",
      "                                                                 \n",
      "=================================================================\n",
      "Total params: 5,121\n",
      "Trainable params: 5,121\n",
      "Non-trainable params: 0\n",
      "_________________________________________________________________\n"
     ]
    }
   ],
   "source": [
    "#create our neural network for our pca data, we follow the same standards as the above neural network. What changes is our input_dims because\n",
    "#the pca features are less than before. \n",
    "pca_model = Sequential()\n",
    "\n",
    "pca_model.add(Dense(128, activation='relu', input_dim=38))\n",
    "\n",
    "pca_model.add(Dense(1,activation='sigmoid'))\n",
    "\n",
    "pca_model.compile(optimizer='adam', loss='binary_crossentropy', metrics=['accuracy'])\n",
    "pca_model.summary()"
   ]
  },
  {
   "cell_type": "code",
   "execution_count": 23,
   "id": "8c8f5f4d-0608-4086-a7b3-06ea2531345f",
   "metadata": {},
   "outputs": [
    {
     "name": "stdout",
     "output_type": "stream",
     "text": [
      "Epoch 1/10\n",
      "65/65 [==============================] - 1s 5ms/step - loss: 0.4108 - accuracy: 0.9223 - val_loss: 0.2187 - val_accuracy: 0.9865\n",
      "Epoch 2/10\n",
      "65/65 [==============================] - 0s 2ms/step - loss: 0.1411 - accuracy: 0.9826 - val_loss: 0.0830 - val_accuracy: 0.9865\n",
      "Epoch 3/10\n",
      "65/65 [==============================] - 0s 2ms/step - loss: 0.0662 - accuracy: 0.9866 - val_loss: 0.0465 - val_accuracy: 0.9908\n",
      "Epoch 4/10\n",
      "65/65 [==============================] - 0s 3ms/step - loss: 0.0398 - accuracy: 0.9937 - val_loss: 0.0304 - val_accuracy: 0.9957\n",
      "Epoch 5/10\n",
      "65/65 [==============================] - 0s 2ms/step - loss: 0.0267 - accuracy: 0.9965 - val_loss: 0.0217 - val_accuracy: 0.9975\n",
      "Epoch 6/10\n",
      "65/65 [==============================] - 0s 2ms/step - loss: 0.0191 - accuracy: 0.9982 - val_loss: 0.0164 - val_accuracy: 0.9975\n",
      "Epoch 7/10\n",
      "65/65 [==============================] - 0s 2ms/step - loss: 0.0143 - accuracy: 0.9991 - val_loss: 0.0130 - val_accuracy: 0.9988\n",
      "Epoch 8/10\n",
      "65/65 [==============================] - 0s 2ms/step - loss: 0.0111 - accuracy: 0.9991 - val_loss: 0.0103 - val_accuracy: 0.9988\n",
      "Epoch 9/10\n",
      "65/65 [==============================] - 0s 2ms/step - loss: 0.0088 - accuracy: 0.9991 - val_loss: 0.0084 - val_accuracy: 0.9988\n",
      "Epoch 10/10\n",
      "65/65 [==============================] - 0s 2ms/step - loss: 0.0072 - accuracy: 0.9992 - val_loss: 0.0069 - val_accuracy: 0.9994\n",
      "CPU times: total: 3.17 s\n",
      "Wall time: 2.36 s\n"
     ]
    }
   ],
   "source": [
    "%%time\n",
    "pca_hist = pca_model.fit(pca_X_train, y_train_label_encoded, validation_data=(pca_X_test, y_test_label_encoded), epochs=10, batch_size=100)\n",
    "#fit our pca_model with our data, our x data is now the pca x data"
   ]
  },
  {
   "cell_type": "code",
   "execution_count": 25,
   "id": "c074cd8b-e141-4c8d-9f28-2d6a1222f229",
   "metadata": {},
   "outputs": [
    {
     "data": {
      "text/plain": [
       "[]"
      ]
     },
     "execution_count": 25,
     "metadata": {},
     "output_type": "execute_result"
    },
    {
     "data": {
      "image/png": "[encoded data removed]",
      "text/plain": [
       "<Figure size 640x480 with 1 Axes>"
      ]
     },
     "metadata": {},
     "output_type": "display_data"
    }
   ],
   "source": [
    "#plotting our training accuracy versus our validation accuracy\n",
    "\n",
    "%matplotlib inline\n",
    "import matplotlib.pyplot as plt\n",
    "import seaborn as sns\n",
    "sns.set()\n",
    "\n",
    "acc = pca_hist.history['accuracy']\n",
    "val = pca_hist.history['val_accuracy']\n",
    "epochs = range(1, len(acc) + 1)\n",
    "\n",
    "plt.plot(epochs, acc, '-', label='Training accuracy')\n",
    "plt.plot(epochs, val, ':', label='Validation accuracy')\n",
    "plt.title('Training and Validation Accuracy')\n",
    "plt.xlabel('Epoch')\n",
    "plt.ylabel('Accuracy')\n",
    "plt.legend(loc='lower right')\n",
    "plt.plot()"
   ]
  },
  {
   "cell_type": "code",
   "execution_count": 26,
   "id": "6902704b-4dd0-4a86-899d-2e468788dbc2",
   "metadata": {},
   "outputs": [
    {
     "name": "stdout",
     "output_type": "stream",
     "text": [
      "51/51 [==============================] - 0s 1ms/step\n",
      "Accuracy: 0.9994\n",
      "Recall: 0.9987\n",
      "F1 Score: 0.9994\n",
      "Precision: 1.0000\n"
     ]
    },
    {
     "data": {
      "text/plain": [
       "<sklearn.metrics._plot.confusion_matrix.ConfusionMatrixDisplay at 0x266c08cbd00>"
      ]
     },
     "execution_count": 26,
     "metadata": {},
     "output_type": "execute_result"
    },
    {
     "data": {
      "image/png": "[encoded data removed]",
      "text/plain": [
       "<Figure size 640x480 with 2 Axes>"
      ]
     },
     "metadata": {},
     "output_type": "display_data"
    }
   ],
   "source": [
    "sns.reset_orig()\n",
    "pca_y_predicted = pca_model.predict(pca_X_test) > 0.5\n",
    "\n",
    "#use our predicted scores versus our y_test encoded data to calculate our scores\n",
    "# use our predictions versus our y_test encoded data to create our confusion matrix\n",
    "\n",
    "accuracy = accuracy_score(y_test_label_encoded, pca_y_predicted)\n",
    "recall = recall_score(y_test_label_encoded, pca_y_predicted)\n",
    "f1 = f1_score(y_test_label_encoded, pca_y_predicted)\n",
    "precision = precision_score(y_test_label_encoded, pca_y_predicted)\n",
    "\n",
    "print(f\"Accuracy: {accuracy:.4f}\")\n",
    "print(f\"Recall: {recall:.4f}\")\n",
    "print(f\"F1 Score: {f1:.4f}\")\n",
    "print(f\"Precision: {precision:.4f}\")\n",
    "\n",
    "\n",
    "labels = ['Negative', 'Positive']\n",
    "cmd.from_predictions(y_test_label_encoded, y_predicted, display_labels=labels, cmap='Blues', xticks_rotation='vertical')"
   ]
  },
  {
   "cell_type": "code",
   "execution_count": 28,
   "id": "f48ab83c-7628-4cc9-8770-124addca4100",
   "metadata": {},
   "outputs": [
    {
     "name": "stdout",
     "output_type": "stream",
     "text": [
      "INFO:tensorflow:Assets written to: ram://2c3fe589-20b4-4bfb-b052-e36eb09bd15d/assets\n"
     ]
    }
   ],
   "source": [
    "import pickle\n",
    "\n",
    "with open('model.pkl', 'wb') as file:\n",
    "    pickle.dump(pca_model , file)   "
   ]
  }
 ],
 "metadata": {
  "kernelspec": {
   "display_name": "dtsc680",
   "language": "python",
   "name": "dtsc680"
  },
  "language_info": {
   "codemirror_mode": {
    "name": "ipython",
    "version": 3
   },
   "file_extension": ".py",
   "mimetype": "text/x-python",
   "name": "python",
   "nbconvert_exporter": "python",
   "pygments_lexer": "ipython3",
   "version": "3.8.19"
  }
 },
 "nbformat": 4,
 "nbformat_minor": 5
}
