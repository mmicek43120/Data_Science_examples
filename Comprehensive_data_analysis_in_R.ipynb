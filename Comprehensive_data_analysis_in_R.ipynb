{
 "cells": [
  {
   "cell_type": "code",
   "execution_count": 1,
   "id": "ef6a71f9-2f9d-4655-8276-938de5ef6a54",
   "metadata": {},
   "outputs": [
    {
     "name": "stderr",
     "output_type": "stream",
     "text": [
      "── \u001b[1mAttaching core tidyverse packages\u001b[22m ──────────────────────────────────────────────────────────────── tidyverse 2.0.0 ──\n",
      "\u001b[32m✔\u001b[39m \u001b[34mdplyr    \u001b[39m 1.1.4     \u001b[32m✔\u001b[39m \u001b[34mreadr    \u001b[39m 2.1.5\n",
      "\u001b[32m✔\u001b[39m \u001b[34mforcats  \u001b[39m 1.0.0     \u001b[32m✔\u001b[39m \u001b[34mstringr  \u001b[39m 1.5.1\n",
      "\u001b[32m✔\u001b[39m \u001b[34mggplot2  \u001b[39m 3.5.1     \u001b[32m✔\u001b[39m \u001b[34mtibble   \u001b[39m 3.2.1\n",
      "\u001b[32m✔\u001b[39m \u001b[34mlubridate\u001b[39m 1.9.4     \u001b[32m✔\u001b[39m \u001b[34mtidyr    \u001b[39m 1.3.1\n",
      "\u001b[32m✔\u001b[39m \u001b[34mpurrr    \u001b[39m 1.0.4     \n",
      "── \u001b[1mConflicts\u001b[22m ────────────────────────────────────────────────────────────────────────────────── tidyverse_conflicts() ──\n",
      "\u001b[31m✖\u001b[39m \u001b[34mdplyr\u001b[39m::\u001b[32mfilter()\u001b[39m masks \u001b[34mstats\u001b[39m::filter()\n",
      "\u001b[31m✖\u001b[39m \u001b[34mdplyr\u001b[39m::\u001b[32mlag()\u001b[39m    masks \u001b[34mstats\u001b[39m::lag()\n",
      "\u001b[36mℹ\u001b[39m Use the conflicted package (\u001b[3m\u001b[34m<http://conflicted.r-lib.org/>\u001b[39m\u001b[23m) to force all conflicts to become errors\n",
      "\n",
      "Attaching package: 'psych'\n",
      "\n",
      "\n",
      "The following objects are masked from 'package:ggplot2':\n",
      "\n",
      "    %+%, alpha\n",
      "\n",
      "\n"
     ]
    }
   ],
   "source": [
    "### It's always a good idea when working in RStudio to start with a clean environment. \n",
    "\n",
    "### Clear objects from the environment memory that may be leftover from previous versions of your code or other assignments by running the following line:\n",
    "rm(list = ls())\n",
    "\n",
    "### Load the libraries you need\n",
    "\n",
    "library(tidyverse) \n",
    "library(psych)\n",
    "library(lm.beta)\n",
    "\n",
    "\n",
    "\n",
    "\n",
    "\n",
    "### Load the Data\n",
    "### Load the data file\n",
    "### Do not change this line\n",
    "brf <- read_csv(\"brfss2021.csv\", show_col_types = FALSE)"
   ]
  },
  {
   "cell_type": "code",
   "execution_count": 2,
   "id": "f046e1ab-de0e-4412-8cf4-73230ec52cdf",
   "metadata": {},
   "outputs": [
    {
     "data": {
      "text/html": [
       "<table class=\"dataframe\">\n",
       "<caption>A spec_tbl_df: 438693 × 209</caption>\n",
       "<thead>\n",
       "\t<tr><th scope=col>_STATE</th><th scope=col>IMONTH</th><th scope=col>IDAY</th><th scope=col>IYEAR</th><th scope=col>DISPCODE</th><th scope=col>PVTRESD1</th><th scope=col>COLGHOUS</th><th scope=col>NUMADULT</th><th scope=col>NUMMEN</th><th scope=col>NUMWOMEN</th><th scope=col>⋯</th><th scope=col>SOFEMALE</th><th scope=col>TRNSGNDR</th><th scope=col>QSTVER</th><th scope=col>QSTLANG</th><th scope=col>_METSTAT</th><th scope=col>_URBSTAT</th><th scope=col>MSCODE</th><th scope=col>_CHISPNC</th><th scope=col>CAGEG</th><th scope=col>_AGE_G</th></tr>\n",
       "\t<tr><th scope=col>&lt;dbl&gt;</th><th scope=col>&lt;chr&gt;</th><th scope=col>&lt;chr&gt;</th><th scope=col>&lt;dbl&gt;</th><th scope=col>&lt;dbl&gt;</th><th scope=col>&lt;dbl&gt;</th><th scope=col>&lt;lgl&gt;</th><th scope=col>&lt;dbl&gt;</th><th scope=col>&lt;dbl&gt;</th><th scope=col>&lt;dbl&gt;</th><th scope=col>⋯</th><th scope=col>&lt;dbl&gt;</th><th scope=col>&lt;dbl&gt;</th><th scope=col>&lt;dbl&gt;</th><th scope=col>&lt;dbl&gt;</th><th scope=col>&lt;dbl&gt;</th><th scope=col>&lt;dbl&gt;</th><th scope=col>&lt;dbl&gt;</th><th scope=col>&lt;dbl&gt;</th><th scope=col>&lt;dbl&gt;</th><th scope=col>&lt;dbl&gt;</th></tr>\n",
       "</thead>\n",
       "<tbody>\n",
       "\t<tr><td>1</td><td>01</td><td>19</td><td>2021</td><td>1100</td><td>1</td><td>NA</td><td>2</td><td> 1</td><td> 1</td><td>⋯</td><td>NA</td><td>NA</td><td>10</td><td>1</td><td>1</td><td>1</td><td>1</td><td>9</td><td>NA</td><td>6</td></tr>\n",
       "\t<tr><td>1</td><td>01</td><td>21</td><td>2021</td><td>1100</td><td>1</td><td>NA</td><td>2</td><td> 1</td><td> 1</td><td>⋯</td><td>NA</td><td>NA</td><td>10</td><td>1</td><td>1</td><td>1</td><td>2</td><td>9</td><td>NA</td><td>6</td></tr>\n",
       "\t<tr><td>1</td><td>01</td><td>21</td><td>2021</td><td>1100</td><td>1</td><td>NA</td><td>2</td><td> 1</td><td> 1</td><td>⋯</td><td>NA</td><td>NA</td><td>10</td><td>1</td><td>1</td><td>1</td><td>1</td><td>9</td><td>NA</td><td>6</td></tr>\n",
       "\t<tr><td>1</td><td>01</td><td>17</td><td>2021</td><td>1100</td><td>1</td><td>NA</td><td>2</td><td> 1</td><td> 1</td><td>⋯</td><td>NA</td><td>NA</td><td>10</td><td>1</td><td>1</td><td>1</td><td>3</td><td>9</td><td>NA</td><td>5</td></tr>\n",
       "\t<tr><td>1</td><td>01</td><td>15</td><td>2021</td><td>1100</td><td>1</td><td>NA</td><td>2</td><td> 1</td><td> 1</td><td>⋯</td><td>NA</td><td>NA</td><td>10</td><td>1</td><td>2</td><td>1</td><td>2</td><td>9</td><td>NA</td><td>6</td></tr>\n",
       "\t<tr><td>1</td><td>01</td><td>14</td><td>2021</td><td>1100</td><td>1</td><td>NA</td><td>1</td><td>NA</td><td>NA</td><td>⋯</td><td>NA</td><td>NA</td><td>10</td><td>1</td><td>2</td><td>2</td><td>5</td><td>9</td><td>NA</td><td>6</td></tr>\n",
       "\t<tr><td>1</td><td>01</td><td>08</td><td>2021</td><td>1100</td><td>1</td><td>NA</td><td>2</td><td> 1</td><td> 1</td><td>⋯</td><td>NA</td><td>NA</td><td>10</td><td>1</td><td>2</td><td>1</td><td>5</td><td>9</td><td>NA</td><td>5</td></tr>\n",
       "\t<tr><td>1</td><td>01</td><td>21</td><td>2021</td><td>1100</td><td>1</td><td>NA</td><td>1</td><td>NA</td><td>NA</td><td>⋯</td><td>NA</td><td>NA</td><td>10</td><td>1</td><td>1</td><td>1</td><td>3</td><td>9</td><td>NA</td><td>5</td></tr>\n",
       "\t<tr><td>1</td><td>02</td><td>20</td><td>2021</td><td>1100</td><td>1</td><td>NA</td><td>1</td><td>NA</td><td>NA</td><td>⋯</td><td>NA</td><td>NA</td><td>10</td><td>1</td><td>1</td><td>1</td><td>1</td><td>9</td><td>NA</td><td>6</td></tr>\n",
       "\t<tr><td>1</td><td>02</td><td>20</td><td>2021</td><td>1100</td><td>1</td><td>NA</td><td>2</td><td> 1</td><td> 1</td><td>⋯</td><td>NA</td><td>NA</td><td>10</td><td>1</td><td>1</td><td>1</td><td>1</td><td>9</td><td>NA</td><td>6</td></tr>\n",
       "\t<tr><td>1</td><td>03</td><td>06</td><td>2021</td><td>1100</td><td>1</td><td>NA</td><td>1</td><td>NA</td><td>NA</td><td>⋯</td><td>NA</td><td>NA</td><td>10</td><td>1</td><td>1</td><td>1</td><td>2</td><td>9</td><td>NA</td><td>6</td></tr>\n",
       "\t<tr><td>1</td><td>02</td><td>28</td><td>2021</td><td>1100</td><td>1</td><td>NA</td><td>2</td><td> 0</td><td> 2</td><td>⋯</td><td>NA</td><td>NA</td><td>10</td><td>1</td><td>1</td><td>1</td><td>3</td><td>9</td><td>NA</td><td>6</td></tr>\n",
       "\t<tr><td>1</td><td>03</td><td>03</td><td>2021</td><td>1100</td><td>1</td><td>NA</td><td>2</td><td> 1</td><td> 1</td><td>⋯</td><td>NA</td><td>NA</td><td>10</td><td>1</td><td>1</td><td>1</td><td>3</td><td>9</td><td>NA</td><td>6</td></tr>\n",
       "\t<tr><td>1</td><td>03</td><td>03</td><td>2021</td><td>1100</td><td>1</td><td>NA</td><td>2</td><td> 1</td><td> 1</td><td>⋯</td><td>NA</td><td>NA</td><td>10</td><td>1</td><td>1</td><td>1</td><td>1</td><td>9</td><td>NA</td><td>6</td></tr>\n",
       "\t<tr><td>1</td><td>02</td><td>20</td><td>2021</td><td>1100</td><td>1</td><td>NA</td><td>1</td><td>NA</td><td>NA</td><td>⋯</td><td>NA</td><td>NA</td><td>10</td><td>1</td><td>1</td><td>1</td><td>1</td><td>9</td><td>NA</td><td>6</td></tr>\n",
       "\t<tr><td>1</td><td>02</td><td>20</td><td>2021</td><td>1100</td><td>1</td><td>NA</td><td>3</td><td> 2</td><td> 1</td><td>⋯</td><td>NA</td><td>NA</td><td>10</td><td>1</td><td>1</td><td>1</td><td>1</td><td>9</td><td>NA</td><td>5</td></tr>\n",
       "\t<tr><td>1</td><td>03</td><td>06</td><td>2021</td><td>1100</td><td>1</td><td>NA</td><td>3</td><td> 2</td><td> 1</td><td>⋯</td><td>NA</td><td>NA</td><td>10</td><td>1</td><td>1</td><td>1</td><td>5</td><td>9</td><td>NA</td><td>5</td></tr>\n",
       "\t<tr><td>1</td><td>03</td><td>01</td><td>2021</td><td>1100</td><td>1</td><td>NA</td><td>1</td><td>NA</td><td>NA</td><td>⋯</td><td>NA</td><td>NA</td><td>10</td><td>1</td><td>1</td><td>1</td><td>3</td><td>9</td><td>NA</td><td>6</td></tr>\n",
       "\t<tr><td>1</td><td>03</td><td>01</td><td>2021</td><td>1200</td><td>1</td><td>NA</td><td>3</td><td> 0</td><td> 3</td><td>⋯</td><td>NA</td><td>NA</td><td>10</td><td>1</td><td>2</td><td>1</td><td>2</td><td>9</td><td>NA</td><td>6</td></tr>\n",
       "\t<tr><td>1</td><td>02</td><td>20</td><td>2021</td><td>1100</td><td>1</td><td>NA</td><td>1</td><td>NA</td><td>NA</td><td>⋯</td><td>NA</td><td>NA</td><td>10</td><td>1</td><td>1</td><td>1</td><td>1</td><td>9</td><td>NA</td><td>4</td></tr>\n",
       "\t<tr><td>1</td><td>02</td><td>20</td><td>2021</td><td>1100</td><td>1</td><td>NA</td><td>1</td><td>NA</td><td>NA</td><td>⋯</td><td>NA</td><td>NA</td><td>10</td><td>1</td><td>1</td><td>1</td><td>2</td><td>9</td><td>NA</td><td>6</td></tr>\n",
       "\t<tr><td>1</td><td>03</td><td>01</td><td>2021</td><td>1100</td><td>1</td><td>NA</td><td>1</td><td>NA</td><td>NA</td><td>⋯</td><td>NA</td><td>NA</td><td>10</td><td>1</td><td>1</td><td>1</td><td>1</td><td>9</td><td>NA</td><td>6</td></tr>\n",
       "\t<tr><td>1</td><td>03</td><td>01</td><td>2021</td><td>1100</td><td>1</td><td>NA</td><td>2</td><td> 1</td><td> 1</td><td>⋯</td><td>NA</td><td>NA</td><td>10</td><td>1</td><td>1</td><td>1</td><td>2</td><td>9</td><td>NA</td><td>6</td></tr>\n",
       "\t<tr><td>1</td><td>02</td><td>21</td><td>2021</td><td>1100</td><td>1</td><td>NA</td><td>2</td><td> 1</td><td> 1</td><td>⋯</td><td>NA</td><td>NA</td><td>10</td><td>1</td><td>1</td><td>1</td><td>1</td><td>9</td><td>NA</td><td>6</td></tr>\n",
       "\t<tr><td>1</td><td>02</td><td>22</td><td>2021</td><td>1100</td><td>1</td><td>NA</td><td>1</td><td>NA</td><td>NA</td><td>⋯</td><td>NA</td><td>NA</td><td>10</td><td>1</td><td>2</td><td>1</td><td>5</td><td>9</td><td>NA</td><td>6</td></tr>\n",
       "\t<tr><td>1</td><td>03</td><td>03</td><td>2021</td><td>1100</td><td>1</td><td>NA</td><td>2</td><td> 1</td><td> 1</td><td>⋯</td><td>NA</td><td>NA</td><td>10</td><td>1</td><td>2</td><td>1</td><td>5</td><td>9</td><td>NA</td><td>6</td></tr>\n",
       "\t<tr><td>1</td><td>03</td><td>03</td><td>2021</td><td>1200</td><td>1</td><td>NA</td><td>3</td><td> 1</td><td> 2</td><td>⋯</td><td>NA</td><td>NA</td><td>10</td><td>1</td><td>2</td><td>1</td><td>5</td><td>9</td><td>NA</td><td>6</td></tr>\n",
       "\t<tr><td>1</td><td>02</td><td>22</td><td>2021</td><td>1100</td><td>1</td><td>NA</td><td>1</td><td>NA</td><td>NA</td><td>⋯</td><td>NA</td><td>NA</td><td>10</td><td>1</td><td>2</td><td>1</td><td>5</td><td>9</td><td>NA</td><td>6</td></tr>\n",
       "\t<tr><td>1</td><td>02</td><td>22</td><td>2021</td><td>1100</td><td>1</td><td>NA</td><td>2</td><td> 1</td><td> 1</td><td>⋯</td><td>NA</td><td>NA</td><td>10</td><td>1</td><td>1</td><td>1</td><td>1</td><td>9</td><td>NA</td><td>6</td></tr>\n",
       "\t<tr><td>1</td><td>02</td><td>22</td><td>2021</td><td>1100</td><td>1</td><td>NA</td><td>1</td><td>NA</td><td>NA</td><td>⋯</td><td>NA</td><td>NA</td><td>10</td><td>1</td><td>2</td><td>1</td><td>5</td><td>9</td><td>NA</td><td>4</td></tr>\n",
       "\t<tr><td>⋮</td><td>⋮</td><td>⋮</td><td>⋮</td><td>⋮</td><td>⋮</td><td>⋮</td><td>⋮</td><td>⋮</td><td>⋮</td><td>⋱</td><td>⋮</td><td>⋮</td><td>⋮</td><td>⋮</td><td>⋮</td><td>⋮</td><td>⋮</td><td>⋮</td><td>⋮</td><td>⋮</td></tr>\n",
       "\t<tr><td>78</td><td>01</td><td>16</td><td>2022</td><td>1100</td><td>NA</td><td>NA</td><td>NA</td><td>NA</td><td>NA</td><td>⋯</td><td>NA</td><td>NA</td><td>20</td><td>1</td><td>NA</td><td>NA</td><td>NA</td><td>2</td><td> 2</td><td>3</td></tr>\n",
       "\t<tr><td>78</td><td>01</td><td>09</td><td>2022</td><td>1100</td><td>NA</td><td>NA</td><td>NA</td><td>NA</td><td>NA</td><td>⋯</td><td>NA</td><td>NA</td><td>20</td><td>1</td><td>NA</td><td>NA</td><td>NA</td><td>2</td><td> 3</td><td>4</td></tr>\n",
       "\t<tr><td>78</td><td>12</td><td>23</td><td>2021</td><td>1100</td><td>NA</td><td>NA</td><td>NA</td><td>NA</td><td>NA</td><td>⋯</td><td>NA</td><td>NA</td><td>20</td><td>1</td><td>NA</td><td>NA</td><td>NA</td><td>9</td><td>NA</td><td>4</td></tr>\n",
       "\t<tr><td>78</td><td>01</td><td>12</td><td>2022</td><td>1200</td><td>NA</td><td>NA</td><td>NA</td><td>NA</td><td>NA</td><td>⋯</td><td>NA</td><td>NA</td><td>20</td><td>1</td><td>NA</td><td>NA</td><td>NA</td><td>9</td><td>NA</td><td>6</td></tr>\n",
       "\t<tr><td>78</td><td>01</td><td>12</td><td>2022</td><td>1100</td><td>NA</td><td>NA</td><td>NA</td><td>NA</td><td>NA</td><td>⋯</td><td>NA</td><td>NA</td><td>20</td><td>1</td><td>NA</td><td>NA</td><td>NA</td><td>9</td><td>NA</td><td>3</td></tr>\n",
       "\t<tr><td>78</td><td>01</td><td>26</td><td>2022</td><td>1100</td><td>NA</td><td>NA</td><td>NA</td><td>NA</td><td>NA</td><td>⋯</td><td>NA</td><td>NA</td><td>20</td><td>1</td><td>NA</td><td>NA</td><td>NA</td><td>2</td><td>NA</td><td>6</td></tr>\n",
       "\t<tr><td>78</td><td>01</td><td>24</td><td>2022</td><td>1100</td><td>NA</td><td>NA</td><td>NA</td><td>NA</td><td>NA</td><td>⋯</td><td>NA</td><td>NA</td><td>20</td><td>1</td><td>NA</td><td>NA</td><td>NA</td><td>9</td><td>NA</td><td>4</td></tr>\n",
       "\t<tr><td>78</td><td>12</td><td>22</td><td>2021</td><td>1100</td><td>NA</td><td>NA</td><td>NA</td><td>NA</td><td>NA</td><td>⋯</td><td>NA</td><td>NA</td><td>20</td><td>1</td><td>NA</td><td>NA</td><td>NA</td><td>9</td><td>NA</td><td>2</td></tr>\n",
       "\t<tr><td>78</td><td>01</td><td>25</td><td>2022</td><td>1200</td><td>NA</td><td>NA</td><td>NA</td><td>NA</td><td>NA</td><td>⋯</td><td>NA</td><td>NA</td><td>20</td><td>1</td><td>NA</td><td>NA</td><td>NA</td><td>9</td><td>NA</td><td>4</td></tr>\n",
       "\t<tr><td>78</td><td>01</td><td>12</td><td>2022</td><td>1200</td><td>NA</td><td>NA</td><td>NA</td><td>NA</td><td>NA</td><td>⋯</td><td>NA</td><td>NA</td><td>20</td><td>1</td><td>NA</td><td>NA</td><td>NA</td><td>9</td><td>NA</td><td>6</td></tr>\n",
       "\t<tr><td>78</td><td>01</td><td>19</td><td>2022</td><td>1100</td><td>NA</td><td>NA</td><td>NA</td><td>NA</td><td>NA</td><td>⋯</td><td>NA</td><td>NA</td><td>20</td><td>1</td><td>NA</td><td>NA</td><td>NA</td><td>9</td><td>NA</td><td>5</td></tr>\n",
       "\t<tr><td>78</td><td>01</td><td>22</td><td>2022</td><td>1100</td><td>NA</td><td>NA</td><td>NA</td><td>NA</td><td>NA</td><td>⋯</td><td>NA</td><td>NA</td><td>20</td><td>1</td><td>NA</td><td>NA</td><td>NA</td><td>9</td><td>NA</td><td>6</td></tr>\n",
       "\t<tr><td>78</td><td>01</td><td>13</td><td>2022</td><td>1100</td><td>NA</td><td>NA</td><td>NA</td><td>NA</td><td>NA</td><td>⋯</td><td>NA</td><td>NA</td><td>20</td><td>1</td><td>NA</td><td>NA</td><td>NA</td><td>9</td><td>NA</td><td>3</td></tr>\n",
       "\t<tr><td>78</td><td>01</td><td>16</td><td>2022</td><td>1100</td><td>NA</td><td>NA</td><td>NA</td><td>NA</td><td>NA</td><td>⋯</td><td>NA</td><td>NA</td><td>20</td><td>1</td><td>NA</td><td>NA</td><td>NA</td><td>9</td><td>NA</td><td>4</td></tr>\n",
       "\t<tr><td>78</td><td>01</td><td>23</td><td>2022</td><td>1100</td><td>NA</td><td>NA</td><td>NA</td><td>NA</td><td>NA</td><td>⋯</td><td>NA</td><td>NA</td><td>20</td><td>1</td><td>NA</td><td>NA</td><td>NA</td><td>9</td><td>NA</td><td>4</td></tr>\n",
       "\t<tr><td>78</td><td>01</td><td>26</td><td>2022</td><td>1100</td><td>NA</td><td>NA</td><td>NA</td><td>NA</td><td>NA</td><td>⋯</td><td>NA</td><td>NA</td><td>20</td><td>1</td><td>NA</td><td>NA</td><td>NA</td><td>9</td><td>NA</td><td>5</td></tr>\n",
       "\t<tr><td>78</td><td>01</td><td>26</td><td>2022</td><td>1200</td><td>NA</td><td>NA</td><td>NA</td><td>NA</td><td>NA</td><td>⋯</td><td>NA</td><td>NA</td><td>20</td><td>1</td><td>NA</td><td>NA</td><td>NA</td><td>9</td><td>NA</td><td>4</td></tr>\n",
       "\t<tr><td>78</td><td>01</td><td>25</td><td>2022</td><td>1100</td><td>NA</td><td>NA</td><td>NA</td><td>NA</td><td>NA</td><td>⋯</td><td>NA</td><td>NA</td><td>20</td><td>2</td><td>NA</td><td>NA</td><td>NA</td><td>2</td><td> 1</td><td>2</td></tr>\n",
       "\t<tr><td>78</td><td>01</td><td>09</td><td>2022</td><td>1100</td><td>NA</td><td>NA</td><td>NA</td><td>NA</td><td>NA</td><td>⋯</td><td>NA</td><td>NA</td><td>20</td><td>1</td><td>NA</td><td>NA</td><td>NA</td><td>9</td><td>NA</td><td>5</td></tr>\n",
       "\t<tr><td>78</td><td>01</td><td>18</td><td>2022</td><td>1100</td><td>NA</td><td>NA</td><td>NA</td><td>NA</td><td>NA</td><td>⋯</td><td>NA</td><td>NA</td><td>20</td><td>1</td><td>NA</td><td>NA</td><td>NA</td><td>9</td><td>NA</td><td>6</td></tr>\n",
       "\t<tr><td>78</td><td>01</td><td>23</td><td>2022</td><td>1100</td><td>NA</td><td>NA</td><td>NA</td><td>NA</td><td>NA</td><td>⋯</td><td>NA</td><td>NA</td><td>20</td><td>1</td><td>NA</td><td>NA</td><td>NA</td><td>9</td><td>NA</td><td>6</td></tr>\n",
       "\t<tr><td>78</td><td>01</td><td>22</td><td>2022</td><td>1100</td><td>NA</td><td>NA</td><td>NA</td><td>NA</td><td>NA</td><td>⋯</td><td>NA</td><td>NA</td><td>20</td><td>1</td><td>NA</td><td>NA</td><td>NA</td><td>9</td><td>NA</td><td>3</td></tr>\n",
       "\t<tr><td>78</td><td>01</td><td>19</td><td>2022</td><td>1100</td><td>NA</td><td>NA</td><td>NA</td><td>NA</td><td>NA</td><td>⋯</td><td>NA</td><td>NA</td><td>20</td><td>1</td><td>NA</td><td>NA</td><td>NA</td><td>9</td><td>NA</td><td>5</td></tr>\n",
       "\t<tr><td>78</td><td>01</td><td>18</td><td>2022</td><td>1100</td><td>NA</td><td>NA</td><td>NA</td><td>NA</td><td>NA</td><td>⋯</td><td>NA</td><td>NA</td><td>20</td><td>1</td><td>NA</td><td>NA</td><td>NA</td><td>9</td><td>NA</td><td>2</td></tr>\n",
       "\t<tr><td>78</td><td>01</td><td>21</td><td>2022</td><td>1100</td><td>NA</td><td>NA</td><td>NA</td><td>NA</td><td>NA</td><td>⋯</td><td>NA</td><td>NA</td><td>20</td><td>1</td><td>NA</td><td>NA</td><td>NA</td><td>9</td><td>NA</td><td>6</td></tr>\n",
       "\t<tr><td>78</td><td>01</td><td>06</td><td>2022</td><td>1100</td><td>NA</td><td>NA</td><td>NA</td><td>NA</td><td>NA</td><td>⋯</td><td>NA</td><td>NA</td><td>20</td><td>1</td><td>NA</td><td>NA</td><td>NA</td><td>2</td><td> 2</td><td>2</td></tr>\n",
       "\t<tr><td>78</td><td>01</td><td>12</td><td>2022</td><td>1100</td><td>NA</td><td>NA</td><td>NA</td><td>NA</td><td>NA</td><td>⋯</td><td>NA</td><td>NA</td><td>20</td><td>1</td><td>NA</td><td>NA</td><td>NA</td><td>9</td><td>NA</td><td>6</td></tr>\n",
       "\t<tr><td>78</td><td>12</td><td>21</td><td>2021</td><td>1100</td><td>NA</td><td>NA</td><td>NA</td><td>NA</td><td>NA</td><td>⋯</td><td>NA</td><td>NA</td><td>20</td><td>1</td><td>NA</td><td>NA</td><td>NA</td><td>9</td><td>NA</td><td>4</td></tr>\n",
       "\t<tr><td>78</td><td>01</td><td>11</td><td>2022</td><td>1100</td><td>NA</td><td>NA</td><td>NA</td><td>NA</td><td>NA</td><td>⋯</td><td>NA</td><td>NA</td><td>20</td><td>1</td><td>NA</td><td>NA</td><td>NA</td><td>9</td><td>NA</td><td>6</td></tr>\n",
       "\t<tr><td>78</td><td>12</td><td>22</td><td>2021</td><td>1100</td><td>NA</td><td>NA</td><td>NA</td><td>NA</td><td>NA</td><td>⋯</td><td>NA</td><td>NA</td><td>20</td><td>1</td><td>NA</td><td>NA</td><td>NA</td><td>9</td><td>NA</td><td>4</td></tr>\n",
       "</tbody>\n",
       "</table>\n"
      ],
      "text/latex": [
       "A spec\\_tbl\\_df: 438693 × 209\n",
       "\\begin{tabular}{lllllllllllllllllllll}\n",
       " \\_STATE & IMONTH & IDAY & IYEAR & DISPCODE & PVTRESD1 & COLGHOUS & NUMADULT & NUMMEN & NUMWOMEN & ⋯ & SOFEMALE & TRNSGNDR & QSTVER & QSTLANG & \\_METSTAT & \\_URBSTAT & MSCODE & \\_CHISPNC & CAGEG & \\_AGE\\_G\\\\\n",
       " <dbl> & <chr> & <chr> & <dbl> & <dbl> & <dbl> & <lgl> & <dbl> & <dbl> & <dbl> & ⋯ & <dbl> & <dbl> & <dbl> & <dbl> & <dbl> & <dbl> & <dbl> & <dbl> & <dbl> & <dbl>\\\\\n",
       "\\hline\n",
       "\t 1 & 01 & 19 & 2021 & 1100 & 1 & NA & 2 &  1 &  1 & ⋯ & NA & NA & 10 & 1 & 1 & 1 & 1 & 9 & NA & 6\\\\\n",
       "\t 1 & 01 & 21 & 2021 & 1100 & 1 & NA & 2 &  1 &  1 & ⋯ & NA & NA & 10 & 1 & 1 & 1 & 2 & 9 & NA & 6\\\\\n",
       "\t 1 & 01 & 21 & 2021 & 1100 & 1 & NA & 2 &  1 &  1 & ⋯ & NA & NA & 10 & 1 & 1 & 1 & 1 & 9 & NA & 6\\\\\n",
       "\t 1 & 01 & 17 & 2021 & 1100 & 1 & NA & 2 &  1 &  1 & ⋯ & NA & NA & 10 & 1 & 1 & 1 & 3 & 9 & NA & 5\\\\\n",
       "\t 1 & 01 & 15 & 2021 & 1100 & 1 & NA & 2 &  1 &  1 & ⋯ & NA & NA & 10 & 1 & 2 & 1 & 2 & 9 & NA & 6\\\\\n",
       "\t 1 & 01 & 14 & 2021 & 1100 & 1 & NA & 1 & NA & NA & ⋯ & NA & NA & 10 & 1 & 2 & 2 & 5 & 9 & NA & 6\\\\\n",
       "\t 1 & 01 & 08 & 2021 & 1100 & 1 & NA & 2 &  1 &  1 & ⋯ & NA & NA & 10 & 1 & 2 & 1 & 5 & 9 & NA & 5\\\\\n",
       "\t 1 & 01 & 21 & 2021 & 1100 & 1 & NA & 1 & NA & NA & ⋯ & NA & NA & 10 & 1 & 1 & 1 & 3 & 9 & NA & 5\\\\\n",
       "\t 1 & 02 & 20 & 2021 & 1100 & 1 & NA & 1 & NA & NA & ⋯ & NA & NA & 10 & 1 & 1 & 1 & 1 & 9 & NA & 6\\\\\n",
       "\t 1 & 02 & 20 & 2021 & 1100 & 1 & NA & 2 &  1 &  1 & ⋯ & NA & NA & 10 & 1 & 1 & 1 & 1 & 9 & NA & 6\\\\\n",
       "\t 1 & 03 & 06 & 2021 & 1100 & 1 & NA & 1 & NA & NA & ⋯ & NA & NA & 10 & 1 & 1 & 1 & 2 & 9 & NA & 6\\\\\n",
       "\t 1 & 02 & 28 & 2021 & 1100 & 1 & NA & 2 &  0 &  2 & ⋯ & NA & NA & 10 & 1 & 1 & 1 & 3 & 9 & NA & 6\\\\\n",
       "\t 1 & 03 & 03 & 2021 & 1100 & 1 & NA & 2 &  1 &  1 & ⋯ & NA & NA & 10 & 1 & 1 & 1 & 3 & 9 & NA & 6\\\\\n",
       "\t 1 & 03 & 03 & 2021 & 1100 & 1 & NA & 2 &  1 &  1 & ⋯ & NA & NA & 10 & 1 & 1 & 1 & 1 & 9 & NA & 6\\\\\n",
       "\t 1 & 02 & 20 & 2021 & 1100 & 1 & NA & 1 & NA & NA & ⋯ & NA & NA & 10 & 1 & 1 & 1 & 1 & 9 & NA & 6\\\\\n",
       "\t 1 & 02 & 20 & 2021 & 1100 & 1 & NA & 3 &  2 &  1 & ⋯ & NA & NA & 10 & 1 & 1 & 1 & 1 & 9 & NA & 5\\\\\n",
       "\t 1 & 03 & 06 & 2021 & 1100 & 1 & NA & 3 &  2 &  1 & ⋯ & NA & NA & 10 & 1 & 1 & 1 & 5 & 9 & NA & 5\\\\\n",
       "\t 1 & 03 & 01 & 2021 & 1100 & 1 & NA & 1 & NA & NA & ⋯ & NA & NA & 10 & 1 & 1 & 1 & 3 & 9 & NA & 6\\\\\n",
       "\t 1 & 03 & 01 & 2021 & 1200 & 1 & NA & 3 &  0 &  3 & ⋯ & NA & NA & 10 & 1 & 2 & 1 & 2 & 9 & NA & 6\\\\\n",
       "\t 1 & 02 & 20 & 2021 & 1100 & 1 & NA & 1 & NA & NA & ⋯ & NA & NA & 10 & 1 & 1 & 1 & 1 & 9 & NA & 4\\\\\n",
       "\t 1 & 02 & 20 & 2021 & 1100 & 1 & NA & 1 & NA & NA & ⋯ & NA & NA & 10 & 1 & 1 & 1 & 2 & 9 & NA & 6\\\\\n",
       "\t 1 & 03 & 01 & 2021 & 1100 & 1 & NA & 1 & NA & NA & ⋯ & NA & NA & 10 & 1 & 1 & 1 & 1 & 9 & NA & 6\\\\\n",
       "\t 1 & 03 & 01 & 2021 & 1100 & 1 & NA & 2 &  1 &  1 & ⋯ & NA & NA & 10 & 1 & 1 & 1 & 2 & 9 & NA & 6\\\\\n",
       "\t 1 & 02 & 21 & 2021 & 1100 & 1 & NA & 2 &  1 &  1 & ⋯ & NA & NA & 10 & 1 & 1 & 1 & 1 & 9 & NA & 6\\\\\n",
       "\t 1 & 02 & 22 & 2021 & 1100 & 1 & NA & 1 & NA & NA & ⋯ & NA & NA & 10 & 1 & 2 & 1 & 5 & 9 & NA & 6\\\\\n",
       "\t 1 & 03 & 03 & 2021 & 1100 & 1 & NA & 2 &  1 &  1 & ⋯ & NA & NA & 10 & 1 & 2 & 1 & 5 & 9 & NA & 6\\\\\n",
       "\t 1 & 03 & 03 & 2021 & 1200 & 1 & NA & 3 &  1 &  2 & ⋯ & NA & NA & 10 & 1 & 2 & 1 & 5 & 9 & NA & 6\\\\\n",
       "\t 1 & 02 & 22 & 2021 & 1100 & 1 & NA & 1 & NA & NA & ⋯ & NA & NA & 10 & 1 & 2 & 1 & 5 & 9 & NA & 6\\\\\n",
       "\t 1 & 02 & 22 & 2021 & 1100 & 1 & NA & 2 &  1 &  1 & ⋯ & NA & NA & 10 & 1 & 1 & 1 & 1 & 9 & NA & 6\\\\\n",
       "\t 1 & 02 & 22 & 2021 & 1100 & 1 & NA & 1 & NA & NA & ⋯ & NA & NA & 10 & 1 & 2 & 1 & 5 & 9 & NA & 4\\\\\n",
       "\t ⋮ & ⋮ & ⋮ & ⋮ & ⋮ & ⋮ & ⋮ & ⋮ & ⋮ & ⋮ & ⋱ & ⋮ & ⋮ & ⋮ & ⋮ & ⋮ & ⋮ & ⋮ & ⋮ & ⋮ & ⋮\\\\\n",
       "\t 78 & 01 & 16 & 2022 & 1100 & NA & NA & NA & NA & NA & ⋯ & NA & NA & 20 & 1 & NA & NA & NA & 2 &  2 & 3\\\\\n",
       "\t 78 & 01 & 09 & 2022 & 1100 & NA & NA & NA & NA & NA & ⋯ & NA & NA & 20 & 1 & NA & NA & NA & 2 &  3 & 4\\\\\n",
       "\t 78 & 12 & 23 & 2021 & 1100 & NA & NA & NA & NA & NA & ⋯ & NA & NA & 20 & 1 & NA & NA & NA & 9 & NA & 4\\\\\n",
       "\t 78 & 01 & 12 & 2022 & 1200 & NA & NA & NA & NA & NA & ⋯ & NA & NA & 20 & 1 & NA & NA & NA & 9 & NA & 6\\\\\n",
       "\t 78 & 01 & 12 & 2022 & 1100 & NA & NA & NA & NA & NA & ⋯ & NA & NA & 20 & 1 & NA & NA & NA & 9 & NA & 3\\\\\n",
       "\t 78 & 01 & 26 & 2022 & 1100 & NA & NA & NA & NA & NA & ⋯ & NA & NA & 20 & 1 & NA & NA & NA & 2 & NA & 6\\\\\n",
       "\t 78 & 01 & 24 & 2022 & 1100 & NA & NA & NA & NA & NA & ⋯ & NA & NA & 20 & 1 & NA & NA & NA & 9 & NA & 4\\\\\n",
       "\t 78 & 12 & 22 & 2021 & 1100 & NA & NA & NA & NA & NA & ⋯ & NA & NA & 20 & 1 & NA & NA & NA & 9 & NA & 2\\\\\n",
       "\t 78 & 01 & 25 & 2022 & 1200 & NA & NA & NA & NA & NA & ⋯ & NA & NA & 20 & 1 & NA & NA & NA & 9 & NA & 4\\\\\n",
       "\t 78 & 01 & 12 & 2022 & 1200 & NA & NA & NA & NA & NA & ⋯ & NA & NA & 20 & 1 & NA & NA & NA & 9 & NA & 6\\\\\n",
       "\t 78 & 01 & 19 & 2022 & 1100 & NA & NA & NA & NA & NA & ⋯ & NA & NA & 20 & 1 & NA & NA & NA & 9 & NA & 5\\\\\n",
       "\t 78 & 01 & 22 & 2022 & 1100 & NA & NA & NA & NA & NA & ⋯ & NA & NA & 20 & 1 & NA & NA & NA & 9 & NA & 6\\\\\n",
       "\t 78 & 01 & 13 & 2022 & 1100 & NA & NA & NA & NA & NA & ⋯ & NA & NA & 20 & 1 & NA & NA & NA & 9 & NA & 3\\\\\n",
       "\t 78 & 01 & 16 & 2022 & 1100 & NA & NA & NA & NA & NA & ⋯ & NA & NA & 20 & 1 & NA & NA & NA & 9 & NA & 4\\\\\n",
       "\t 78 & 01 & 23 & 2022 & 1100 & NA & NA & NA & NA & NA & ⋯ & NA & NA & 20 & 1 & NA & NA & NA & 9 & NA & 4\\\\\n",
       "\t 78 & 01 & 26 & 2022 & 1100 & NA & NA & NA & NA & NA & ⋯ & NA & NA & 20 & 1 & NA & NA & NA & 9 & NA & 5\\\\\n",
       "\t 78 & 01 & 26 & 2022 & 1200 & NA & NA & NA & NA & NA & ⋯ & NA & NA & 20 & 1 & NA & NA & NA & 9 & NA & 4\\\\\n",
       "\t 78 & 01 & 25 & 2022 & 1100 & NA & NA & NA & NA & NA & ⋯ & NA & NA & 20 & 2 & NA & NA & NA & 2 &  1 & 2\\\\\n",
       "\t 78 & 01 & 09 & 2022 & 1100 & NA & NA & NA & NA & NA & ⋯ & NA & NA & 20 & 1 & NA & NA & NA & 9 & NA & 5\\\\\n",
       "\t 78 & 01 & 18 & 2022 & 1100 & NA & NA & NA & NA & NA & ⋯ & NA & NA & 20 & 1 & NA & NA & NA & 9 & NA & 6\\\\\n",
       "\t 78 & 01 & 23 & 2022 & 1100 & NA & NA & NA & NA & NA & ⋯ & NA & NA & 20 & 1 & NA & NA & NA & 9 & NA & 6\\\\\n",
       "\t 78 & 01 & 22 & 2022 & 1100 & NA & NA & NA & NA & NA & ⋯ & NA & NA & 20 & 1 & NA & NA & NA & 9 & NA & 3\\\\\n",
       "\t 78 & 01 & 19 & 2022 & 1100 & NA & NA & NA & NA & NA & ⋯ & NA & NA & 20 & 1 & NA & NA & NA & 9 & NA & 5\\\\\n",
       "\t 78 & 01 & 18 & 2022 & 1100 & NA & NA & NA & NA & NA & ⋯ & NA & NA & 20 & 1 & NA & NA & NA & 9 & NA & 2\\\\\n",
       "\t 78 & 01 & 21 & 2022 & 1100 & NA & NA & NA & NA & NA & ⋯ & NA & NA & 20 & 1 & NA & NA & NA & 9 & NA & 6\\\\\n",
       "\t 78 & 01 & 06 & 2022 & 1100 & NA & NA & NA & NA & NA & ⋯ & NA & NA & 20 & 1 & NA & NA & NA & 2 &  2 & 2\\\\\n",
       "\t 78 & 01 & 12 & 2022 & 1100 & NA & NA & NA & NA & NA & ⋯ & NA & NA & 20 & 1 & NA & NA & NA & 9 & NA & 6\\\\\n",
       "\t 78 & 12 & 21 & 2021 & 1100 & NA & NA & NA & NA & NA & ⋯ & NA & NA & 20 & 1 & NA & NA & NA & 9 & NA & 4\\\\\n",
       "\t 78 & 01 & 11 & 2022 & 1100 & NA & NA & NA & NA & NA & ⋯ & NA & NA & 20 & 1 & NA & NA & NA & 9 & NA & 6\\\\\n",
       "\t 78 & 12 & 22 & 2021 & 1100 & NA & NA & NA & NA & NA & ⋯ & NA & NA & 20 & 1 & NA & NA & NA & 9 & NA & 4\\\\\n",
       "\\end{tabular}\n"
      ],
      "text/markdown": [
       "\n",
       "A spec_tbl_df: 438693 × 209\n",
       "\n",
       "| _STATE &lt;dbl&gt; | IMONTH &lt;chr&gt; | IDAY &lt;chr&gt; | IYEAR &lt;dbl&gt; | DISPCODE &lt;dbl&gt; | PVTRESD1 &lt;dbl&gt; | COLGHOUS &lt;lgl&gt; | NUMADULT &lt;dbl&gt; | NUMMEN &lt;dbl&gt; | NUMWOMEN &lt;dbl&gt; | ⋯ ⋯ | SOFEMALE &lt;dbl&gt; | TRNSGNDR &lt;dbl&gt; | QSTVER &lt;dbl&gt; | QSTLANG &lt;dbl&gt; | _METSTAT &lt;dbl&gt; | _URBSTAT &lt;dbl&gt; | MSCODE &lt;dbl&gt; | _CHISPNC &lt;dbl&gt; | CAGEG &lt;dbl&gt; | _AGE_G &lt;dbl&gt; |\n",
       "|---|---|---|---|---|---|---|---|---|---|---|---|---|---|---|---|---|---|---|---|---|\n",
       "| 1 | 01 | 19 | 2021 | 1100 | 1 | NA | 2 |  1 |  1 | ⋯ | NA | NA | 10 | 1 | 1 | 1 | 1 | 9 | NA | 6 |\n",
       "| 1 | 01 | 21 | 2021 | 1100 | 1 | NA | 2 |  1 |  1 | ⋯ | NA | NA | 10 | 1 | 1 | 1 | 2 | 9 | NA | 6 |\n",
       "| 1 | 01 | 21 | 2021 | 1100 | 1 | NA | 2 |  1 |  1 | ⋯ | NA | NA | 10 | 1 | 1 | 1 | 1 | 9 | NA | 6 |\n",
       "| 1 | 01 | 17 | 2021 | 1100 | 1 | NA | 2 |  1 |  1 | ⋯ | NA | NA | 10 | 1 | 1 | 1 | 3 | 9 | NA | 5 |\n",
       "| 1 | 01 | 15 | 2021 | 1100 | 1 | NA | 2 |  1 |  1 | ⋯ | NA | NA | 10 | 1 | 2 | 1 | 2 | 9 | NA | 6 |\n",
       "| 1 | 01 | 14 | 2021 | 1100 | 1 | NA | 1 | NA | NA | ⋯ | NA | NA | 10 | 1 | 2 | 2 | 5 | 9 | NA | 6 |\n",
       "| 1 | 01 | 08 | 2021 | 1100 | 1 | NA | 2 |  1 |  1 | ⋯ | NA | NA | 10 | 1 | 2 | 1 | 5 | 9 | NA | 5 |\n",
       "| 1 | 01 | 21 | 2021 | 1100 | 1 | NA | 1 | NA | NA | ⋯ | NA | NA | 10 | 1 | 1 | 1 | 3 | 9 | NA | 5 |\n",
       "| 1 | 02 | 20 | 2021 | 1100 | 1 | NA | 1 | NA | NA | ⋯ | NA | NA | 10 | 1 | 1 | 1 | 1 | 9 | NA | 6 |\n",
       "| 1 | 02 | 20 | 2021 | 1100 | 1 | NA | 2 |  1 |  1 | ⋯ | NA | NA | 10 | 1 | 1 | 1 | 1 | 9 | NA | 6 |\n",
       "| 1 | 03 | 06 | 2021 | 1100 | 1 | NA | 1 | NA | NA | ⋯ | NA | NA | 10 | 1 | 1 | 1 | 2 | 9 | NA | 6 |\n",
       "| 1 | 02 | 28 | 2021 | 1100 | 1 | NA | 2 |  0 |  2 | ⋯ | NA | NA | 10 | 1 | 1 | 1 | 3 | 9 | NA | 6 |\n",
       "| 1 | 03 | 03 | 2021 | 1100 | 1 | NA | 2 |  1 |  1 | ⋯ | NA | NA | 10 | 1 | 1 | 1 | 3 | 9 | NA | 6 |\n",
       "| 1 | 03 | 03 | 2021 | 1100 | 1 | NA | 2 |  1 |  1 | ⋯ | NA | NA | 10 | 1 | 1 | 1 | 1 | 9 | NA | 6 |\n",
       "| 1 | 02 | 20 | 2021 | 1100 | 1 | NA | 1 | NA | NA | ⋯ | NA | NA | 10 | 1 | 1 | 1 | 1 | 9 | NA | 6 |\n",
       "| 1 | 02 | 20 | 2021 | 1100 | 1 | NA | 3 |  2 |  1 | ⋯ | NA | NA | 10 | 1 | 1 | 1 | 1 | 9 | NA | 5 |\n",
       "| 1 | 03 | 06 | 2021 | 1100 | 1 | NA | 3 |  2 |  1 | ⋯ | NA | NA | 10 | 1 | 1 | 1 | 5 | 9 | NA | 5 |\n",
       "| 1 | 03 | 01 | 2021 | 1100 | 1 | NA | 1 | NA | NA | ⋯ | NA | NA | 10 | 1 | 1 | 1 | 3 | 9 | NA | 6 |\n",
       "| 1 | 03 | 01 | 2021 | 1200 | 1 | NA | 3 |  0 |  3 | ⋯ | NA | NA | 10 | 1 | 2 | 1 | 2 | 9 | NA | 6 |\n",
       "| 1 | 02 | 20 | 2021 | 1100 | 1 | NA | 1 | NA | NA | ⋯ | NA | NA | 10 | 1 | 1 | 1 | 1 | 9 | NA | 4 |\n",
       "| 1 | 02 | 20 | 2021 | 1100 | 1 | NA | 1 | NA | NA | ⋯ | NA | NA | 10 | 1 | 1 | 1 | 2 | 9 | NA | 6 |\n",
       "| 1 | 03 | 01 | 2021 | 1100 | 1 | NA | 1 | NA | NA | ⋯ | NA | NA | 10 | 1 | 1 | 1 | 1 | 9 | NA | 6 |\n",
       "| 1 | 03 | 01 | 2021 | 1100 | 1 | NA | 2 |  1 |  1 | ⋯ | NA | NA | 10 | 1 | 1 | 1 | 2 | 9 | NA | 6 |\n",
       "| 1 | 02 | 21 | 2021 | 1100 | 1 | NA | 2 |  1 |  1 | ⋯ | NA | NA | 10 | 1 | 1 | 1 | 1 | 9 | NA | 6 |\n",
       "| 1 | 02 | 22 | 2021 | 1100 | 1 | NA | 1 | NA | NA | ⋯ | NA | NA | 10 | 1 | 2 | 1 | 5 | 9 | NA | 6 |\n",
       "| 1 | 03 | 03 | 2021 | 1100 | 1 | NA | 2 |  1 |  1 | ⋯ | NA | NA | 10 | 1 | 2 | 1 | 5 | 9 | NA | 6 |\n",
       "| 1 | 03 | 03 | 2021 | 1200 | 1 | NA | 3 |  1 |  2 | ⋯ | NA | NA | 10 | 1 | 2 | 1 | 5 | 9 | NA | 6 |\n",
       "| 1 | 02 | 22 | 2021 | 1100 | 1 | NA | 1 | NA | NA | ⋯ | NA | NA | 10 | 1 | 2 | 1 | 5 | 9 | NA | 6 |\n",
       "| 1 | 02 | 22 | 2021 | 1100 | 1 | NA | 2 |  1 |  1 | ⋯ | NA | NA | 10 | 1 | 1 | 1 | 1 | 9 | NA | 6 |\n",
       "| 1 | 02 | 22 | 2021 | 1100 | 1 | NA | 1 | NA | NA | ⋯ | NA | NA | 10 | 1 | 2 | 1 | 5 | 9 | NA | 4 |\n",
       "| ⋮ | ⋮ | ⋮ | ⋮ | ⋮ | ⋮ | ⋮ | ⋮ | ⋮ | ⋮ | ⋱ | ⋮ | ⋮ | ⋮ | ⋮ | ⋮ | ⋮ | ⋮ | ⋮ | ⋮ | ⋮ |\n",
       "| 78 | 01 | 16 | 2022 | 1100 | NA | NA | NA | NA | NA | ⋯ | NA | NA | 20 | 1 | NA | NA | NA | 2 |  2 | 3 |\n",
       "| 78 | 01 | 09 | 2022 | 1100 | NA | NA | NA | NA | NA | ⋯ | NA | NA | 20 | 1 | NA | NA | NA | 2 |  3 | 4 |\n",
       "| 78 | 12 | 23 | 2021 | 1100 | NA | NA | NA | NA | NA | ⋯ | NA | NA | 20 | 1 | NA | NA | NA | 9 | NA | 4 |\n",
       "| 78 | 01 | 12 | 2022 | 1200 | NA | NA | NA | NA | NA | ⋯ | NA | NA | 20 | 1 | NA | NA | NA | 9 | NA | 6 |\n",
       "| 78 | 01 | 12 | 2022 | 1100 | NA | NA | NA | NA | NA | ⋯ | NA | NA | 20 | 1 | NA | NA | NA | 9 | NA | 3 |\n",
       "| 78 | 01 | 26 | 2022 | 1100 | NA | NA | NA | NA | NA | ⋯ | NA | NA | 20 | 1 | NA | NA | NA | 2 | NA | 6 |\n",
       "| 78 | 01 | 24 | 2022 | 1100 | NA | NA | NA | NA | NA | ⋯ | NA | NA | 20 | 1 | NA | NA | NA | 9 | NA | 4 |\n",
       "| 78 | 12 | 22 | 2021 | 1100 | NA | NA | NA | NA | NA | ⋯ | NA | NA | 20 | 1 | NA | NA | NA | 9 | NA | 2 |\n",
       "| 78 | 01 | 25 | 2022 | 1200 | NA | NA | NA | NA | NA | ⋯ | NA | NA | 20 | 1 | NA | NA | NA | 9 | NA | 4 |\n",
       "| 78 | 01 | 12 | 2022 | 1200 | NA | NA | NA | NA | NA | ⋯ | NA | NA | 20 | 1 | NA | NA | NA | 9 | NA | 6 |\n",
       "| 78 | 01 | 19 | 2022 | 1100 | NA | NA | NA | NA | NA | ⋯ | NA | NA | 20 | 1 | NA | NA | NA | 9 | NA | 5 |\n",
       "| 78 | 01 | 22 | 2022 | 1100 | NA | NA | NA | NA | NA | ⋯ | NA | NA | 20 | 1 | NA | NA | NA | 9 | NA | 6 |\n",
       "| 78 | 01 | 13 | 2022 | 1100 | NA | NA | NA | NA | NA | ⋯ | NA | NA | 20 | 1 | NA | NA | NA | 9 | NA | 3 |\n",
       "| 78 | 01 | 16 | 2022 | 1100 | NA | NA | NA | NA | NA | ⋯ | NA | NA | 20 | 1 | NA | NA | NA | 9 | NA | 4 |\n",
       "| 78 | 01 | 23 | 2022 | 1100 | NA | NA | NA | NA | NA | ⋯ | NA | NA | 20 | 1 | NA | NA | NA | 9 | NA | 4 |\n",
       "| 78 | 01 | 26 | 2022 | 1100 | NA | NA | NA | NA | NA | ⋯ | NA | NA | 20 | 1 | NA | NA | NA | 9 | NA | 5 |\n",
       "| 78 | 01 | 26 | 2022 | 1200 | NA | NA | NA | NA | NA | ⋯ | NA | NA | 20 | 1 | NA | NA | NA | 9 | NA | 4 |\n",
       "| 78 | 01 | 25 | 2022 | 1100 | NA | NA | NA | NA | NA | ⋯ | NA | NA | 20 | 2 | NA | NA | NA | 2 |  1 | 2 |\n",
       "| 78 | 01 | 09 | 2022 | 1100 | NA | NA | NA | NA | NA | ⋯ | NA | NA | 20 | 1 | NA | NA | NA | 9 | NA | 5 |\n",
       "| 78 | 01 | 18 | 2022 | 1100 | NA | NA | NA | NA | NA | ⋯ | NA | NA | 20 | 1 | NA | NA | NA | 9 | NA | 6 |\n",
       "| 78 | 01 | 23 | 2022 | 1100 | NA | NA | NA | NA | NA | ⋯ | NA | NA | 20 | 1 | NA | NA | NA | 9 | NA | 6 |\n",
       "| 78 | 01 | 22 | 2022 | 1100 | NA | NA | NA | NA | NA | ⋯ | NA | NA | 20 | 1 | NA | NA | NA | 9 | NA | 3 |\n",
       "| 78 | 01 | 19 | 2022 | 1100 | NA | NA | NA | NA | NA | ⋯ | NA | NA | 20 | 1 | NA | NA | NA | 9 | NA | 5 |\n",
       "| 78 | 01 | 18 | 2022 | 1100 | NA | NA | NA | NA | NA | ⋯ | NA | NA | 20 | 1 | NA | NA | NA | 9 | NA | 2 |\n",
       "| 78 | 01 | 21 | 2022 | 1100 | NA | NA | NA | NA | NA | ⋯ | NA | NA | 20 | 1 | NA | NA | NA | 9 | NA | 6 |\n",
       "| 78 | 01 | 06 | 2022 | 1100 | NA | NA | NA | NA | NA | ⋯ | NA | NA | 20 | 1 | NA | NA | NA | 2 |  2 | 2 |\n",
       "| 78 | 01 | 12 | 2022 | 1100 | NA | NA | NA | NA | NA | ⋯ | NA | NA | 20 | 1 | NA | NA | NA | 9 | NA | 6 |\n",
       "| 78 | 12 | 21 | 2021 | 1100 | NA | NA | NA | NA | NA | ⋯ | NA | NA | 20 | 1 | NA | NA | NA | 9 | NA | 4 |\n",
       "| 78 | 01 | 11 | 2022 | 1100 | NA | NA | NA | NA | NA | ⋯ | NA | NA | 20 | 1 | NA | NA | NA | 9 | NA | 6 |\n",
       "| 78 | 12 | 22 | 2021 | 1100 | NA | NA | NA | NA | NA | ⋯ | NA | NA | 20 | 1 | NA | NA | NA | 9 | NA | 4 |\n",
       "\n"
      ],
      "text/plain": [
       "       _STATE IMONTH IDAY IYEAR DISPCODE PVTRESD1 COLGHOUS NUMADULT NUMMEN\n",
       "1      1      01     19   2021  1100     1        NA       2         1    \n",
       "2      1      01     21   2021  1100     1        NA       2         1    \n",
       "3      1      01     21   2021  1100     1        NA       2         1    \n",
       "4      1      01     17   2021  1100     1        NA       2         1    \n",
       "5      1      01     15   2021  1100     1        NA       2         1    \n",
       "6      1      01     14   2021  1100     1        NA       1        NA    \n",
       "7      1      01     08   2021  1100     1        NA       2         1    \n",
       "8      1      01     21   2021  1100     1        NA       1        NA    \n",
       "9      1      02     20   2021  1100     1        NA       1        NA    \n",
       "10     1      02     20   2021  1100     1        NA       2         1    \n",
       "11     1      03     06   2021  1100     1        NA       1        NA    \n",
       "12     1      02     28   2021  1100     1        NA       2         0    \n",
       "13     1      03     03   2021  1100     1        NA       2         1    \n",
       "14     1      03     03   2021  1100     1        NA       2         1    \n",
       "15     1      02     20   2021  1100     1        NA       1        NA    \n",
       "16     1      02     20   2021  1100     1        NA       3         2    \n",
       "17     1      03     06   2021  1100     1        NA       3         2    \n",
       "18     1      03     01   2021  1100     1        NA       1        NA    \n",
       "19     1      03     01   2021  1200     1        NA       3         0    \n",
       "20     1      02     20   2021  1100     1        NA       1        NA    \n",
       "21     1      02     20   2021  1100     1        NA       1        NA    \n",
       "22     1      03     01   2021  1100     1        NA       1        NA    \n",
       "23     1      03     01   2021  1100     1        NA       2         1    \n",
       "24     1      02     21   2021  1100     1        NA       2         1    \n",
       "25     1      02     22   2021  1100     1        NA       1        NA    \n",
       "26     1      03     03   2021  1100     1        NA       2         1    \n",
       "27     1      03     03   2021  1200     1        NA       3         1    \n",
       "28     1      02     22   2021  1100     1        NA       1        NA    \n",
       "29     1      02     22   2021  1100     1        NA       2         1    \n",
       "30     1      02     22   2021  1100     1        NA       1        NA    \n",
       "⋮      ⋮      ⋮      ⋮    ⋮     ⋮        ⋮        ⋮        ⋮        ⋮     \n",
       "438664 78     01     16   2022  1100     NA       NA       NA       NA    \n",
       "438665 78     01     09   2022  1100     NA       NA       NA       NA    \n",
       "438666 78     12     23   2021  1100     NA       NA       NA       NA    \n",
       "438667 78     01     12   2022  1200     NA       NA       NA       NA    \n",
       "438668 78     01     12   2022  1100     NA       NA       NA       NA    \n",
       "438669 78     01     26   2022  1100     NA       NA       NA       NA    \n",
       "438670 78     01     24   2022  1100     NA       NA       NA       NA    \n",
       "438671 78     12     22   2021  1100     NA       NA       NA       NA    \n",
       "438672 78     01     25   2022  1200     NA       NA       NA       NA    \n",
       "438673 78     01     12   2022  1200     NA       NA       NA       NA    \n",
       "438674 78     01     19   2022  1100     NA       NA       NA       NA    \n",
       "438675 78     01     22   2022  1100     NA       NA       NA       NA    \n",
       "438676 78     01     13   2022  1100     NA       NA       NA       NA    \n",
       "438677 78     01     16   2022  1100     NA       NA       NA       NA    \n",
       "438678 78     01     23   2022  1100     NA       NA       NA       NA    \n",
       "438679 78     01     26   2022  1100     NA       NA       NA       NA    \n",
       "438680 78     01     26   2022  1200     NA       NA       NA       NA    \n",
       "438681 78     01     25   2022  1100     NA       NA       NA       NA    \n",
       "438682 78     01     09   2022  1100     NA       NA       NA       NA    \n",
       "438683 78     01     18   2022  1100     NA       NA       NA       NA    \n",
       "438684 78     01     23   2022  1100     NA       NA       NA       NA    \n",
       "438685 78     01     22   2022  1100     NA       NA       NA       NA    \n",
       "438686 78     01     19   2022  1100     NA       NA       NA       NA    \n",
       "438687 78     01     18   2022  1100     NA       NA       NA       NA    \n",
       "438688 78     01     21   2022  1100     NA       NA       NA       NA    \n",
       "438689 78     01     06   2022  1100     NA       NA       NA       NA    \n",
       "438690 78     01     12   2022  1100     NA       NA       NA       NA    \n",
       "438691 78     12     21   2021  1100     NA       NA       NA       NA    \n",
       "438692 78     01     11   2022  1100     NA       NA       NA       NA    \n",
       "438693 78     12     22   2021  1100     NA       NA       NA       NA    \n",
       "       NUMWOMEN ⋯ SOFEMALE TRNSGNDR QSTVER QSTLANG _METSTAT _URBSTAT MSCODE\n",
       "1       1       ⋯ NA       NA       10     1       1        1        1     \n",
       "2       1       ⋯ NA       NA       10     1       1        1        2     \n",
       "3       1       ⋯ NA       NA       10     1       1        1        1     \n",
       "4       1       ⋯ NA       NA       10     1       1        1        3     \n",
       "5       1       ⋯ NA       NA       10     1       2        1        2     \n",
       "6      NA       ⋯ NA       NA       10     1       2        2        5     \n",
       "7       1       ⋯ NA       NA       10     1       2        1        5     \n",
       "8      NA       ⋯ NA       NA       10     1       1        1        3     \n",
       "9      NA       ⋯ NA       NA       10     1       1        1        1     \n",
       "10      1       ⋯ NA       NA       10     1       1        1        1     \n",
       "11     NA       ⋯ NA       NA       10     1       1        1        2     \n",
       "12      2       ⋯ NA       NA       10     1       1        1        3     \n",
       "13      1       ⋯ NA       NA       10     1       1        1        3     \n",
       "14      1       ⋯ NA       NA       10     1       1        1        1     \n",
       "15     NA       ⋯ NA       NA       10     1       1        1        1     \n",
       "16      1       ⋯ NA       NA       10     1       1        1        1     \n",
       "17      1       ⋯ NA       NA       10     1       1        1        5     \n",
       "18     NA       ⋯ NA       NA       10     1       1        1        3     \n",
       "19      3       ⋯ NA       NA       10     1       2        1        2     \n",
       "20     NA       ⋯ NA       NA       10     1       1        1        1     \n",
       "21     NA       ⋯ NA       NA       10     1       1        1        2     \n",
       "22     NA       ⋯ NA       NA       10     1       1        1        1     \n",
       "23      1       ⋯ NA       NA       10     1       1        1        2     \n",
       "24      1       ⋯ NA       NA       10     1       1        1        1     \n",
       "25     NA       ⋯ NA       NA       10     1       2        1        5     \n",
       "26      1       ⋯ NA       NA       10     1       2        1        5     \n",
       "27      2       ⋯ NA       NA       10     1       2        1        5     \n",
       "28     NA       ⋯ NA       NA       10     1       2        1        5     \n",
       "29      1       ⋯ NA       NA       10     1       1        1        1     \n",
       "30     NA       ⋯ NA       NA       10     1       2        1        5     \n",
       "⋮      ⋮        ⋱ ⋮        ⋮        ⋮      ⋮       ⋮        ⋮        ⋮     \n",
       "438664 NA       ⋯ NA       NA       20     1       NA       NA       NA    \n",
       "438665 NA       ⋯ NA       NA       20     1       NA       NA       NA    \n",
       "438666 NA       ⋯ NA       NA       20     1       NA       NA       NA    \n",
       "438667 NA       ⋯ NA       NA       20     1       NA       NA       NA    \n",
       "438668 NA       ⋯ NA       NA       20     1       NA       NA       NA    \n",
       "438669 NA       ⋯ NA       NA       20     1       NA       NA       NA    \n",
       "438670 NA       ⋯ NA       NA       20     1       NA       NA       NA    \n",
       "438671 NA       ⋯ NA       NA       20     1       NA       NA       NA    \n",
       "438672 NA       ⋯ NA       NA       20     1       NA       NA       NA    \n",
       "438673 NA       ⋯ NA       NA       20     1       NA       NA       NA    \n",
       "438674 NA       ⋯ NA       NA       20     1       NA       NA       NA    \n",
       "438675 NA       ⋯ NA       NA       20     1       NA       NA       NA    \n",
       "438676 NA       ⋯ NA       NA       20     1       NA       NA       NA    \n",
       "438677 NA       ⋯ NA       NA       20     1       NA       NA       NA    \n",
       "438678 NA       ⋯ NA       NA       20     1       NA       NA       NA    \n",
       "438679 NA       ⋯ NA       NA       20     1       NA       NA       NA    \n",
       "438680 NA       ⋯ NA       NA       20     1       NA       NA       NA    \n",
       "438681 NA       ⋯ NA       NA       20     2       NA       NA       NA    \n",
       "438682 NA       ⋯ NA       NA       20     1       NA       NA       NA    \n",
       "438683 NA       ⋯ NA       NA       20     1       NA       NA       NA    \n",
       "438684 NA       ⋯ NA       NA       20     1       NA       NA       NA    \n",
       "438685 NA       ⋯ NA       NA       20     1       NA       NA       NA    \n",
       "438686 NA       ⋯ NA       NA       20     1       NA       NA       NA    \n",
       "438687 NA       ⋯ NA       NA       20     1       NA       NA       NA    \n",
       "438688 NA       ⋯ NA       NA       20     1       NA       NA       NA    \n",
       "438689 NA       ⋯ NA       NA       20     1       NA       NA       NA    \n",
       "438690 NA       ⋯ NA       NA       20     1       NA       NA       NA    \n",
       "438691 NA       ⋯ NA       NA       20     1       NA       NA       NA    \n",
       "438692 NA       ⋯ NA       NA       20     1       NA       NA       NA    \n",
       "438693 NA       ⋯ NA       NA       20     1       NA       NA       NA    \n",
       "       _CHISPNC CAGEG _AGE_G\n",
       "1      9        NA    6     \n",
       "2      9        NA    6     \n",
       "3      9        NA    6     \n",
       "4      9        NA    5     \n",
       "5      9        NA    6     \n",
       "6      9        NA    6     \n",
       "7      9        NA    5     \n",
       "8      9        NA    5     \n",
       "9      9        NA    6     \n",
       "10     9        NA    6     \n",
       "11     9        NA    6     \n",
       "12     9        NA    6     \n",
       "13     9        NA    6     \n",
       "14     9        NA    6     \n",
       "15     9        NA    6     \n",
       "16     9        NA    5     \n",
       "17     9        NA    5     \n",
       "18     9        NA    6     \n",
       "19     9        NA    6     \n",
       "20     9        NA    4     \n",
       "21     9        NA    6     \n",
       "22     9        NA    6     \n",
       "23     9        NA    6     \n",
       "24     9        NA    6     \n",
       "25     9        NA    6     \n",
       "26     9        NA    6     \n",
       "27     9        NA    6     \n",
       "28     9        NA    6     \n",
       "29     9        NA    6     \n",
       "30     9        NA    4     \n",
       "⋮      ⋮        ⋮     ⋮     \n",
       "438664 2         2    3     \n",
       "438665 2         3    4     \n",
       "438666 9        NA    4     \n",
       "438667 9        NA    6     \n",
       "438668 9        NA    3     \n",
       "438669 2        NA    6     \n",
       "438670 9        NA    4     \n",
       "438671 9        NA    2     \n",
       "438672 9        NA    4     \n",
       "438673 9        NA    6     \n",
       "438674 9        NA    5     \n",
       "438675 9        NA    6     \n",
       "438676 9        NA    3     \n",
       "438677 9        NA    4     \n",
       "438678 9        NA    4     \n",
       "438679 9        NA    5     \n",
       "438680 9        NA    4     \n",
       "438681 2         1    2     \n",
       "438682 9        NA    5     \n",
       "438683 9        NA    6     \n",
       "438684 9        NA    6     \n",
       "438685 9        NA    3     \n",
       "438686 9        NA    5     \n",
       "438687 9        NA    2     \n",
       "438688 9        NA    6     \n",
       "438689 2         2    2     \n",
       "438690 9        NA    6     \n",
       "438691 9        NA    4     \n",
       "438692 9        NA    6     \n",
       "438693 9        NA    4     "
      ]
     },
     "metadata": {},
     "output_type": "display_data"
    }
   ],
   "source": [
    "brf"
   ]
  },
  {
   "cell_type": "markdown",
   "id": "d199c12c-f755-4205-a684-691d130eecea",
   "metadata": {},
   "source": [
    "## Target and Feature Selection"
   ]
  },
  {
   "cell_type": "code",
   "execution_count": 5,
   "id": "58632fac-df1b-4650-ade9-72e48c75c213",
   "metadata": {},
   "outputs": [
    {
     "data": {
      "text/html": [
       "<table class=\"dataframe\">\n",
       "<caption>A data.frame: 162923 × 4</caption>\n",
       "<thead>\n",
       "\t<tr><th scope=col>PHYSHLTH</th><th scope=col>SMOKDAY2</th><th scope=col>ALCDAY5</th><th scope=col>EXERANY2</th></tr>\n",
       "\t<tr><th scope=col>&lt;dbl&gt;</th><th scope=col>&lt;dbl&gt;</th><th scope=col>&lt;dbl&gt;</th><th scope=col>&lt;dbl&gt;</th></tr>\n",
       "</thead>\n",
       "<tbody>\n",
       "\t<tr><td>20</td><td>3</td><td>888</td><td>2</td></tr>\n",
       "\t<tr><td> 0</td><td>3</td><td>888</td><td>2</td></tr>\n",
       "\t<tr><td> 0</td><td>3</td><td>888</td><td>1</td></tr>\n",
       "\t<tr><td>25</td><td>3</td><td>203</td><td>1</td></tr>\n",
       "\t<tr><td> 0</td><td>2</td><td>888</td><td>2</td></tr>\n",
       "\t<tr><td> 0</td><td>3</td><td>888</td><td>1</td></tr>\n",
       "\t<tr><td>10</td><td>3</td><td>888</td><td>1</td></tr>\n",
       "\t<tr><td> 0</td><td>1</td><td>204</td><td>2</td></tr>\n",
       "\t<tr><td>30</td><td>3</td><td>230</td><td>1</td></tr>\n",
       "\t<tr><td> 0</td><td>3</td><td>202</td><td>1</td></tr>\n",
       "\t<tr><td>30</td><td>3</td><td>888</td><td>1</td></tr>\n",
       "\t<tr><td>10</td><td>2</td><td>888</td><td>2</td></tr>\n",
       "\t<tr><td> 2</td><td>3</td><td>103</td><td>2</td></tr>\n",
       "\t<tr><td> 3</td><td>3</td><td>888</td><td>1</td></tr>\n",
       "\t<tr><td> 0</td><td>2</td><td>201</td><td>1</td></tr>\n",
       "\t<tr><td>15</td><td>3</td><td>888</td><td>1</td></tr>\n",
       "\t<tr><td>30</td><td>3</td><td>203</td><td>1</td></tr>\n",
       "\t<tr><td> 0</td><td>3</td><td>888</td><td>1</td></tr>\n",
       "\t<tr><td> 0</td><td>3</td><td>203</td><td>2</td></tr>\n",
       "\t<tr><td> 0</td><td>1</td><td>888</td><td>2</td></tr>\n",
       "\t<tr><td> 0</td><td>1</td><td>210</td><td>1</td></tr>\n",
       "\t<tr><td> 0</td><td>3</td><td>888</td><td>1</td></tr>\n",
       "\t<tr><td>15</td><td>3</td><td>203</td><td>2</td></tr>\n",
       "\t<tr><td> 0</td><td>3</td><td>888</td><td>2</td></tr>\n",
       "\t<tr><td>15</td><td>3</td><td>888</td><td>2</td></tr>\n",
       "\t<tr><td> 2</td><td>3</td><td>101</td><td>1</td></tr>\n",
       "\t<tr><td> 8</td><td>3</td><td>888</td><td>2</td></tr>\n",
       "\t<tr><td>30</td><td>3</td><td>888</td><td>2</td></tr>\n",
       "\t<tr><td> 0</td><td>3</td><td>888</td><td>2</td></tr>\n",
       "\t<tr><td> 0</td><td>1</td><td>888</td><td>2</td></tr>\n",
       "\t<tr><td>⋮</td><td>⋮</td><td>⋮</td><td>⋮</td></tr>\n",
       "\t<tr><td> 7</td><td>3</td><td>104</td><td>1</td></tr>\n",
       "\t<tr><td> 0</td><td>3</td><td>106</td><td>1</td></tr>\n",
       "\t<tr><td> 0</td><td>1</td><td>107</td><td>2</td></tr>\n",
       "\t<tr><td> 2</td><td>2</td><td>777</td><td>1</td></tr>\n",
       "\t<tr><td> 0</td><td>3</td><td>101</td><td>1</td></tr>\n",
       "\t<tr><td> 0</td><td>3</td><td>204</td><td>1</td></tr>\n",
       "\t<tr><td> 0</td><td>3</td><td>107</td><td>1</td></tr>\n",
       "\t<tr><td> 0</td><td>3</td><td> NA</td><td>1</td></tr>\n",
       "\t<tr><td> 0</td><td>1</td><td>102</td><td>2</td></tr>\n",
       "\t<tr><td> 0</td><td>3</td><td>202</td><td>1</td></tr>\n",
       "\t<tr><td> 0</td><td>2</td><td>107</td><td>1</td></tr>\n",
       "\t<tr><td> 0</td><td>3</td><td>777</td><td>2</td></tr>\n",
       "\t<tr><td> 0</td><td>1</td><td>230</td><td>1</td></tr>\n",
       "\t<tr><td> 0</td><td>1</td><td>888</td><td>1</td></tr>\n",
       "\t<tr><td> 0</td><td>3</td><td>204</td><td>2</td></tr>\n",
       "\t<tr><td> 0</td><td>3</td><td>888</td><td>1</td></tr>\n",
       "\t<tr><td> 0</td><td>3</td><td>203</td><td>1</td></tr>\n",
       "\t<tr><td> 3</td><td>3</td><td>102</td><td>1</td></tr>\n",
       "\t<tr><td> 0</td><td>3</td><td>888</td><td>1</td></tr>\n",
       "\t<tr><td>15</td><td>3</td><td>888</td><td>1</td></tr>\n",
       "\t<tr><td> 0</td><td>3</td><td>208</td><td>1</td></tr>\n",
       "\t<tr><td> 0</td><td>3</td><td>888</td><td>1</td></tr>\n",
       "\t<tr><td> 0</td><td>3</td><td>204</td><td>1</td></tr>\n",
       "\t<tr><td> 0</td><td>3</td><td>102</td><td>1</td></tr>\n",
       "\t<tr><td> 0</td><td>2</td><td>888</td><td>1</td></tr>\n",
       "\t<tr><td> 0</td><td>3</td><td>206</td><td>1</td></tr>\n",
       "\t<tr><td>30</td><td>3</td><td>230</td><td>1</td></tr>\n",
       "\t<tr><td> 0</td><td>3</td><td>202</td><td>1</td></tr>\n",
       "\t<tr><td> 0</td><td>3</td><td>230</td><td>1</td></tr>\n",
       "\t<tr><td> 0</td><td>3</td><td>204</td><td>1</td></tr>\n",
       "</tbody>\n",
       "</table>\n"
      ],
      "text/latex": [
       "A data.frame: 162923 × 4\n",
       "\\begin{tabular}{llll}\n",
       " PHYSHLTH & SMOKDAY2 & ALCDAY5 & EXERANY2\\\\\n",
       " <dbl> & <dbl> & <dbl> & <dbl>\\\\\n",
       "\\hline\n",
       "\t 20 & 3 & 888 & 2\\\\\n",
       "\t  0 & 3 & 888 & 2\\\\\n",
       "\t  0 & 3 & 888 & 1\\\\\n",
       "\t 25 & 3 & 203 & 1\\\\\n",
       "\t  0 & 2 & 888 & 2\\\\\n",
       "\t  0 & 3 & 888 & 1\\\\\n",
       "\t 10 & 3 & 888 & 1\\\\\n",
       "\t  0 & 1 & 204 & 2\\\\\n",
       "\t 30 & 3 & 230 & 1\\\\\n",
       "\t  0 & 3 & 202 & 1\\\\\n",
       "\t 30 & 3 & 888 & 1\\\\\n",
       "\t 10 & 2 & 888 & 2\\\\\n",
       "\t  2 & 3 & 103 & 2\\\\\n",
       "\t  3 & 3 & 888 & 1\\\\\n",
       "\t  0 & 2 & 201 & 1\\\\\n",
       "\t 15 & 3 & 888 & 1\\\\\n",
       "\t 30 & 3 & 203 & 1\\\\\n",
       "\t  0 & 3 & 888 & 1\\\\\n",
       "\t  0 & 3 & 203 & 2\\\\\n",
       "\t  0 & 1 & 888 & 2\\\\\n",
       "\t  0 & 1 & 210 & 1\\\\\n",
       "\t  0 & 3 & 888 & 1\\\\\n",
       "\t 15 & 3 & 203 & 2\\\\\n",
       "\t  0 & 3 & 888 & 2\\\\\n",
       "\t 15 & 3 & 888 & 2\\\\\n",
       "\t  2 & 3 & 101 & 1\\\\\n",
       "\t  8 & 3 & 888 & 2\\\\\n",
       "\t 30 & 3 & 888 & 2\\\\\n",
       "\t  0 & 3 & 888 & 2\\\\\n",
       "\t  0 & 1 & 888 & 2\\\\\n",
       "\t ⋮ & ⋮ & ⋮ & ⋮\\\\\n",
       "\t  7 & 3 & 104 & 1\\\\\n",
       "\t  0 & 3 & 106 & 1\\\\\n",
       "\t  0 & 1 & 107 & 2\\\\\n",
       "\t  2 & 2 & 777 & 1\\\\\n",
       "\t  0 & 3 & 101 & 1\\\\\n",
       "\t  0 & 3 & 204 & 1\\\\\n",
       "\t  0 & 3 & 107 & 1\\\\\n",
       "\t  0 & 3 &  NA & 1\\\\\n",
       "\t  0 & 1 & 102 & 2\\\\\n",
       "\t  0 & 3 & 202 & 1\\\\\n",
       "\t  0 & 2 & 107 & 1\\\\\n",
       "\t  0 & 3 & 777 & 2\\\\\n",
       "\t  0 & 1 & 230 & 1\\\\\n",
       "\t  0 & 1 & 888 & 1\\\\\n",
       "\t  0 & 3 & 204 & 2\\\\\n",
       "\t  0 & 3 & 888 & 1\\\\\n",
       "\t  0 & 3 & 203 & 1\\\\\n",
       "\t  3 & 3 & 102 & 1\\\\\n",
       "\t  0 & 3 & 888 & 1\\\\\n",
       "\t 15 & 3 & 888 & 1\\\\\n",
       "\t  0 & 3 & 208 & 1\\\\\n",
       "\t  0 & 3 & 888 & 1\\\\\n",
       "\t  0 & 3 & 204 & 1\\\\\n",
       "\t  0 & 3 & 102 & 1\\\\\n",
       "\t  0 & 2 & 888 & 1\\\\\n",
       "\t  0 & 3 & 206 & 1\\\\\n",
       "\t 30 & 3 & 230 & 1\\\\\n",
       "\t  0 & 3 & 202 & 1\\\\\n",
       "\t  0 & 3 & 230 & 1\\\\\n",
       "\t  0 & 3 & 204 & 1\\\\\n",
       "\\end{tabular}\n"
      ],
      "text/markdown": [
       "\n",
       "A data.frame: 162923 × 4\n",
       "\n",
       "| PHYSHLTH &lt;dbl&gt; | SMOKDAY2 &lt;dbl&gt; | ALCDAY5 &lt;dbl&gt; | EXERANY2 &lt;dbl&gt; |\n",
       "|---|---|---|---|\n",
       "| 20 | 3 | 888 | 2 |\n",
       "|  0 | 3 | 888 | 2 |\n",
       "|  0 | 3 | 888 | 1 |\n",
       "| 25 | 3 | 203 | 1 |\n",
       "|  0 | 2 | 888 | 2 |\n",
       "|  0 | 3 | 888 | 1 |\n",
       "| 10 | 3 | 888 | 1 |\n",
       "|  0 | 1 | 204 | 2 |\n",
       "| 30 | 3 | 230 | 1 |\n",
       "|  0 | 3 | 202 | 1 |\n",
       "| 30 | 3 | 888 | 1 |\n",
       "| 10 | 2 | 888 | 2 |\n",
       "|  2 | 3 | 103 | 2 |\n",
       "|  3 | 3 | 888 | 1 |\n",
       "|  0 | 2 | 201 | 1 |\n",
       "| 15 | 3 | 888 | 1 |\n",
       "| 30 | 3 | 203 | 1 |\n",
       "|  0 | 3 | 888 | 1 |\n",
       "|  0 | 3 | 203 | 2 |\n",
       "|  0 | 1 | 888 | 2 |\n",
       "|  0 | 1 | 210 | 1 |\n",
       "|  0 | 3 | 888 | 1 |\n",
       "| 15 | 3 | 203 | 2 |\n",
       "|  0 | 3 | 888 | 2 |\n",
       "| 15 | 3 | 888 | 2 |\n",
       "|  2 | 3 | 101 | 1 |\n",
       "|  8 | 3 | 888 | 2 |\n",
       "| 30 | 3 | 888 | 2 |\n",
       "|  0 | 3 | 888 | 2 |\n",
       "|  0 | 1 | 888 | 2 |\n",
       "| ⋮ | ⋮ | ⋮ | ⋮ |\n",
       "|  7 | 3 | 104 | 1 |\n",
       "|  0 | 3 | 106 | 1 |\n",
       "|  0 | 1 | 107 | 2 |\n",
       "|  2 | 2 | 777 | 1 |\n",
       "|  0 | 3 | 101 | 1 |\n",
       "|  0 | 3 | 204 | 1 |\n",
       "|  0 | 3 | 107 | 1 |\n",
       "|  0 | 3 |  NA | 1 |\n",
       "|  0 | 1 | 102 | 2 |\n",
       "|  0 | 3 | 202 | 1 |\n",
       "|  0 | 2 | 107 | 1 |\n",
       "|  0 | 3 | 777 | 2 |\n",
       "|  0 | 1 | 230 | 1 |\n",
       "|  0 | 1 | 888 | 1 |\n",
       "|  0 | 3 | 204 | 2 |\n",
       "|  0 | 3 | 888 | 1 |\n",
       "|  0 | 3 | 203 | 1 |\n",
       "|  3 | 3 | 102 | 1 |\n",
       "|  0 | 3 | 888 | 1 |\n",
       "| 15 | 3 | 888 | 1 |\n",
       "|  0 | 3 | 208 | 1 |\n",
       "|  0 | 3 | 888 | 1 |\n",
       "|  0 | 3 | 204 | 1 |\n",
       "|  0 | 3 | 102 | 1 |\n",
       "|  0 | 2 | 888 | 1 |\n",
       "|  0 | 3 | 206 | 1 |\n",
       "| 30 | 3 | 230 | 1 |\n",
       "|  0 | 3 | 202 | 1 |\n",
       "|  0 | 3 | 230 | 1 |\n",
       "|  0 | 3 | 204 | 1 |\n",
       "\n"
      ],
      "text/plain": [
       "       PHYSHLTH SMOKDAY2 ALCDAY5 EXERANY2\n",
       "1      20       3        888     2       \n",
       "2       0       3        888     2       \n",
       "3       0       3        888     1       \n",
       "4      25       3        203     1       \n",
       "5       0       2        888     2       \n",
       "6       0       3        888     1       \n",
       "7      10       3        888     1       \n",
       "8       0       1        204     2       \n",
       "9      30       3        230     1       \n",
       "10      0       3        202     1       \n",
       "11     30       3        888     1       \n",
       "12     10       2        888     2       \n",
       "13      2       3        103     2       \n",
       "14      3       3        888     1       \n",
       "15      0       2        201     1       \n",
       "16     15       3        888     1       \n",
       "17     30       3        203     1       \n",
       "18      0       3        888     1       \n",
       "19      0       3        203     2       \n",
       "20      0       1        888     2       \n",
       "21      0       1        210     1       \n",
       "22      0       3        888     1       \n",
       "23     15       3        203     2       \n",
       "24      0       3        888     2       \n",
       "25     15       3        888     2       \n",
       "26      2       3        101     1       \n",
       "27      8       3        888     2       \n",
       "28     30       3        888     2       \n",
       "29      0       3        888     2       \n",
       "30      0       1        888     2       \n",
       "⋮      ⋮        ⋮        ⋮       ⋮       \n",
       "162894  7       3        104     1       \n",
       "162895  0       3        106     1       \n",
       "162896  0       1        107     2       \n",
       "162897  2       2        777     1       \n",
       "162898  0       3        101     1       \n",
       "162899  0       3        204     1       \n",
       "162900  0       3        107     1       \n",
       "162901  0       3         NA     1       \n",
       "162902  0       1        102     2       \n",
       "162903  0       3        202     1       \n",
       "162904  0       2        107     1       \n",
       "162905  0       3        777     2       \n",
       "162906  0       1        230     1       \n",
       "162907  0       1        888     1       \n",
       "162908  0       3        204     2       \n",
       "162909  0       3        888     1       \n",
       "162910  0       3        203     1       \n",
       "162911  3       3        102     1       \n",
       "162912  0       3        888     1       \n",
       "162913 15       3        888     1       \n",
       "162914  0       3        208     1       \n",
       "162915  0       3        888     1       \n",
       "162916  0       3        204     1       \n",
       "162917  0       3        102     1       \n",
       "162918  0       2        888     1       \n",
       "162919  0       3        206     1       \n",
       "162920 30       3        230     1       \n",
       "162921  0       3        202     1       \n",
       "162922  0       3        230     1       \n",
       "162923  0       3        204     1       "
      ]
     },
     "metadata": {},
     "output_type": "display_data"
    }
   ],
   "source": [
    "final_project_df <- brf |>\n",
    "  select(PHYSHLTH,SMOKDAY2,ALCDAY5,EXERANY2) |>\n",
    "  filter(SMOKDAY2 %in% c(1,2,3)) |> #keeping smoking never,some, or everyday\n",
    "  filter(EXERANY2 %in% c(1,2))|> # keeping yes or no to last 30 days of having exercise\n",
    "  filter(PHYSHLTH != 77) |> #taking out don't know/not sure\n",
    "  filter(PHYSHLTH != 99) |> #taking out refused to answer\n",
    "  mutate(PHYSHLTH = if_else(PHYSHLTH == 88,0,PHYSHLTH)) |> #convert 88 to zero days\n",
    "  as.data.frame()\n",
    " \n",
    "final_project_df"
   ]
  },
  {
   "cell_type": "markdown",
   "id": "927083fa-dde4-4949-8e6b-cc52a3573750",
   "metadata": {},
   "source": [
    "PHYSHLTH <- This will be the variable I will seek to predict from the other variables.\n",
    "It is representative of the amount of days the person being interviewed felt their physical health was not good.\n",
    "Responses include a number between 01-30 which reflects the amount of days that person felt their physical health was not good,\n",
    "88 which reflects an amount of zero days feeling their physical health was not good, 77 for don’t know/not sure, and 99 for refusal of answer.\n",
    "88 has to be updated to reflect 0, and 77 and 99 will be filtered out.\n",
    "\n",
    "SMOKDAY2 <- This will be the first predictor used.\n",
    "It is representative of how often a participant smokes.\n",
    "Responses include 1 for smoking everyday, 2 for smoking some days, 3 for smoking never, 7 for don’t know/not sure, and 9 for refusal of answer.\n",
    "7 and 9 will be filtered out.\n",
    "\n",
    "ALCDAY5 <- This will be the second predictor used.\n",
    "It is representative of how often a participant drinks.\n",
    "The response can be reported in days per week or per month the participant drinks.\n",
    "Responses starting with 1 _ _ reflect days per week, with the values after the one being the amount of days per week.\n",
    "Responses starting with 2 _ _ reflect days per month, with the values after the two being the amount of days per month.\n",
    "A response of 888 means no drinks within the past 30 days, 777 means not sure/don’t know, and 999 being a refusal of answer.\n",
    "I plan to convert this variable going forward, which is where filtering will take place. 888 will be converted to 0 and 777/999 will be dropped.\n",
    "\n",
    "EXERANY2 <- This will be the third predictor used.\n",
    "It is representative of if a participant has had physical activity or exercised in the past 30 days or not(outside of work).\n",
    "A response of 1 means they have, a response of 2 means no they have not, 7 means don’t know/ not sure, and 9 means refusal of answer. \n",
    "7 and 9 will are to be filtered out."
   ]
  },
  {
   "cell_type": "markdown",
   "id": "1fe3fb55-7fcc-42c3-9d2b-1838d6b76b72",
   "metadata": {},
   "source": [
    "## Checking for outliers using boxplots for the first 3 variables"
   ]
  },
  {
   "cell_type": "code",
   "execution_count": 6,
   "id": "fee9384d-b5e9-42d1-810b-6727bae2d97a",
   "metadata": {},
   "outputs": [
    {
     "data": {
      "image/png": "[encoded data removed]",
      "text/plain": [
       "plot without title"
      ]
     },
     "metadata": {
      "image/png": {
       "height": 420,
       "width": 420
      }
     },
     "output_type": "display_data"
    }
   ],
   "source": [
    "final_project_df |>\n",
    "  ggplot(aes(x=PHYSHLTH)) +\n",
    "  geom_boxplot()"
   ]
  },
  {
   "cell_type": "code",
   "execution_count": 7,
   "id": "810a5635-6b18-4f2b-82df-5b4886c18c2c",
   "metadata": {},
   "outputs": [
    {
     "data": {
      "image/png": "[encoded data removed]",
      "text/plain": [
       "plot without title"
      ]
     },
     "metadata": {
      "image/png": {
       "height": 420,
       "width": 420
      }
     },
     "output_type": "display_data"
    }
   ],
   "source": [
    "final_project_df |>\n",
    "  ggplot(aes(x=SMOKDAY2)) +\n",
    "  geom_boxplot()"
   ]
  },
  {
   "cell_type": "code",
   "execution_count": 8,
   "id": "e68b99c4-d8aa-4c5b-bd76-62d61ec31cf7",
   "metadata": {},
   "outputs": [
    {
     "data": {
      "image/png": "[encoded data removed]",
      "text/plain": [
       "plot without title"
      ]
     },
     "metadata": {
      "image/png": {
       "height": 420,
       "width": 420
      }
     },
     "output_type": "display_data"
    }
   ],
   "source": [
    "final_project_df |>\n",
    "  ggplot(aes(x=EXERANY2)) +\n",
    "  geom_boxplot()"
   ]
  },
  {
   "cell_type": "code",
   "execution_count": 9,
   "id": "33463bbc-d0d0-4e40-894a-1de52cd36613",
   "metadata": {},
   "outputs": [
    {
     "data": {
      "image/png": "[encoded data removed]",
      "text/plain": [
       "plot without title"
      ]
     },
     "metadata": {
      "image/png": {
       "height": 420,
       "width": 420
      }
     },
     "output_type": "display_data"
    }
   ],
   "source": [
    "#converting drinks per week and month to per day, will use this column over alcday5 column\n",
    "final_project_df <- final_project_df |>\n",
    "  mutate(\n",
    "    ALCDRINKDAY = case_when(\n",
    "      between(ALCDAY5,101,107) ~ round((ALCDAY5-100)/7,2), #converting weeks to days\n",
    "      between(ALCDAY5,201,230) ~ round((ALCDAY5-200)/30,2), #converting per month to days\n",
    "      ALCDAY5 == 888 ~ 0, # converting no drinks to zero\n",
    "    )) |>\n",
    "  filter(!is.na(ALCDRINKDAY))|>\n",
    "  as.data.frame()\n",
    "\n",
    "#Since the alcday5 variable is not uniform in available responses that can be given, I broke down the responses for the per week and per month so that they could be converted per day. I also removed the NA's. \n",
    "\n",
    "#checking for outliers in the ALCDRINKDAY variable\n",
    "final_project_df |>\n",
    "  ggplot(aes(x=ALCDRINKDAY)) +\n",
    "  geom_boxplot()"
   ]
  },
  {
   "cell_type": "code",
   "execution_count": 10,
   "id": "bb4ac963-25e7-483c-8964-765ececdeade",
   "metadata": {},
   "outputs": [],
   "source": [
    "#Outliers were found in the alcdrinkday variable and the physhlth variable, the next few steps are removal\n",
    "\n",
    "# creating the upper fence to take out outliers in alcdrinkday\n",
    "upper_fence <- quantile(final_project_df$ALCDRINKDAY, 0.75) + (1.5 * IQR(final_project_df$ALCDRINKDAY))\n",
    "lower_fence <- quantile(final_project_df$ALCDRINKDAY, 0.25) - (1.5 * IQR(final_project_df$ALCDRINKDAY))\n",
    "\n",
    "# creating the upper fence to take out outliers in physhlth\n",
    "upper_f <- quantile(final_project_df$PHYSHLTH, 0.75) + (1.5 * IQR(final_project_df$PHYSHLTH))\n",
    "lower_f <- quantile(final_project_df$PHYSHLTH, 0.25) - (1.5 * IQR(final_project_df$PHYSHLTH))\n",
    "\n",
    "#applying the created boundries to the dataframe to remove the outliers\n",
    "final_project_df <- final_project_df |> \n",
    "  filter(\n",
    "    ALCDRINKDAY >= lower_fence,\n",
    "    ALCDRINKDAY <= upper_fence,\n",
    "    PHYSHLTH >= lower_f,\n",
    "    PHYSHLTH <= upper_f\n",
    "  )\n",
    " "
   ]
  },
  {
   "cell_type": "markdown",
   "id": "d9e8508c-445b-41ce-9232-9a75ffcbcdb8",
   "metadata": {},
   "source": [
    "For this part of the project, I looked at the variables and if the contained outliers. I first checked for outliers in the PHYSHLTH, EXERANY2, and SMOKDAY2 variables and I determined the PHYSHLTH variable had outliers. For the ALCDAY5, I made a new column called ALCDRINKDAY in which I converted that data from drinks per week and per month to drinks per day, so that it would be uniform and overall make more sense, and I also removed the NAs. After looking at the boxplot I determined there were outliers and used the 1.5 IQR rule to remove outliers for both the physhlth and alcdrinkday columns. I choose this method mainly because it is the more widely used method and because I had used a boxplot to help determine outliers."
   ]
  },
  {
   "cell_type": "markdown",
   "id": "510f342d-8a1c-4072-a810-12e76a698236",
   "metadata": {},
   "source": [
    "## Visual analysis of features"
   ]
  },
  {
   "cell_type": "code",
   "execution_count": 11,
   "id": "6515ea68-0e5c-4cad-88f1-209d5345d46b",
   "metadata": {},
   "outputs": [
    {
     "data": {
      "image/png": "[encoded data removed]",
      "text/plain": [
       "plot without title"
      ]
     },
     "metadata": {
      "image/png": {
       "height": 420,
       "width": 420
      }
     },
     "output_type": "display_data"
    }
   ],
   "source": [
    "#NOTE : I will be using the AlCDRINKDAY data instead of the original ALCDAY5.\n",
    "\n",
    "#seeing counts on alcoholic beverages per day\n",
    "final_project_df |>\n",
    "  ggplot(aes(x = ALCDRINKDAY)) +\n",
    "  geom_histogram(binwidth = .1)"
   ]
  },
  {
   "cell_type": "code",
   "execution_count": 12,
   "id": "c767851e-22ed-4d6a-b060-6f5c1350cd5e",
   "metadata": {},
   "outputs": [
    {
     "data": {
      "image/png": "[encoded data removed]",
      "text/plain": [
       "plot without title"
      ]
     },
     "metadata": {
      "image/png": {
       "height": 420,
       "width": 420
      }
     },
     "output_type": "display_data"
    }
   ],
   "source": [
    "#seeing counts on amount of days a participant does not feel good\n",
    "final_project_df |>\n",
    "  ggplot(aes(x = PHYSHLTH)) +\n",
    "  geom_histogram(binwidth = 1)"
   ]
  },
  {
   "cell_type": "code",
   "execution_count": 13,
   "id": "24175e48-b978-4106-9a7e-e8cd0b7dcb94",
   "metadata": {},
   "outputs": [
    {
     "data": {
      "image/png": "[encoded data removed]",
      "text/plain": [
       "plot without title"
      ]
     },
     "metadata": {
      "image/png": {
       "height": 420,
       "width": 420
      }
     },
     "output_type": "display_data"
    }
   ],
   "source": [
    "#seeing counts on smoking between everyday, some days, and never\n",
    "final_project_df |>\n",
    "  ggplot(aes(x = SMOKDAY2)) +\n",
    "  geom_histogram(binwidth = 1)"
   ]
  },
  {
   "cell_type": "code",
   "execution_count": 14,
   "id": "9a271168-b030-4aff-8b95-e341b349b56a",
   "metadata": {},
   "outputs": [
    {
     "data": {
      "image/png": "[encoded data removed]",
      "text/plain": [
       "plot without title"
      ]
     },
     "metadata": {
      "image/png": {
       "height": 420,
       "width": 420
      }
     },
     "output_type": "display_data"
    }
   ],
   "source": [
    "#counts of if people are exercising with the last 30 days\n",
    "final_project_df |>\n",
    "  ggplot(aes(x=EXERANY2)) +\n",
    "  geom_histogram(binwidth = 0.5)"
   ]
  },
  {
   "cell_type": "code",
   "execution_count": 15,
   "id": "25870117-231c-464a-afca-8e25904ef5ea",
   "metadata": {},
   "outputs": [
    {
     "name": "stderr",
     "output_type": "stream",
     "text": [
      "\u001b[1m\u001b[22m`geom_smooth()` using formula = 'y ~ x'\n"
     ]
    },
    {
     "data": {
      "image/png": "[encoded data removed]",
      "text/plain": [
       "plot without title"
      ]
     },
     "metadata": {
      "image/png": {
       "height": 420,
       "width": 420
      }
     },
     "output_type": "display_data"
    }
   ],
   "source": [
    "#scatterplot with a line of best fit for what I want to predict and what I expect to be the only variable that would have a positive relationship with it. \n",
    "final_project_df |>\n",
    "  ggplot(aes(x=PHYSHLTH, y=EXERANY2)) +\n",
    "  geom_point() + geom_smooth(method = \"lm\")"
   ]
  },
  {
   "cell_type": "code",
   "execution_count": 16,
   "id": "e0621334-ac6b-40b0-b6e8-7e364ed025e6",
   "metadata": {},
   "outputs": [
    {
     "name": "stderr",
     "output_type": "stream",
     "text": [
      "\u001b[1m\u001b[22m`geom_smooth()` using formula = 'y ~ x'\n"
     ]
    },
    {
     "data": {
      "image/png": "[encoded data removed]",
      "text/plain": [
       "plot without title"
      ]
     },
     "metadata": {
      "image/png": {
       "height": 420,
       "width": 420
      }
     },
     "output_type": "display_data"
    }
   ],
   "source": [
    "#scatterplots with a line of best fit for what I want to predict versus what I would expect to be the variables to have a negative relationship with it.\n",
    "final_project_df |>\n",
    "  ggplot(aes(x=ALCDRINKDAY,y=PHYSHLTH)) +\n",
    "  geom_point() + geom_smooth(method = \"lm\")"
   ]
  },
  {
   "cell_type": "code",
   "execution_count": 17,
   "id": "6b5eda0e-2795-49ee-ac09-9643857efb9d",
   "metadata": {},
   "outputs": [
    {
     "name": "stderr",
     "output_type": "stream",
     "text": [
      "\u001b[1m\u001b[22m`geom_smooth()` using formula = 'y ~ x'\n"
     ]
    },
    {
     "data": {
      "image/png": "[encoded data removed]",
      "text/plain": [
       "plot without title"
      ]
     },
     "metadata": {
      "image/png": {
       "height": 420,
       "width": 420
      }
     },
     "output_type": "display_data"
    }
   ],
   "source": [
    "final_project_df |>\n",
    "  ggplot(aes(x=SMOKDAY2, y=PHYSHLTH)) +\n",
    "  geom_point() + geom_smooth(method = \"lm\")"
   ]
  },
  {
   "cell_type": "markdown",
   "id": "dfcb5108-a713-4655-8927-20267f4e0908",
   "metadata": {},
   "source": [
    "they did not both have a negative relationship, but I wanted to see if my theory was correct or not. \n",
    "Although they both have a negative line of best fit, for the smoking plot the negative line of best fit shows that those who smoked less felt better (because the number 3 represents not smoking). The alcdrinkday line of best fit showed that having more drinks actually lead to less days feeling not well.\n"
   ]
  },
  {
   "cell_type": "markdown",
   "id": "82103dd1-bcef-4b87-912c-8328f34b0bf9",
   "metadata": {},
   "source": [
    "The first thing I wanted to visualize here was the counts of each of the variables. By running histograms on each variable I was quickly able to see that most participants did not drink or had less drinks daily, most participants felt good for most of the month, most participants did not smoke, and most participants engaged in physical exercise within the past 30 days. What I wanted to see next was the relationships with the predicted and predictor variables. I ran scatterplots with line of best fit in order to see if there were positive and negative relationships with the predicted variable. What I found was that the variable I expected to have a positive relationship did have one, and it does show that people who have not exercised tend to have more days feeling not well. The plot depicting smoking within the past 30 days does show a slight negative correlation, as those who never smoked were slightly healthier than those who smoked some or more. The plot depicting days feeling well and drinks per day did surprise me, as the graph shows those who drank had very slightly more days feeling well."
   ]
  },
  {
   "cell_type": "code",
   "execution_count": 18,
   "id": "f26e7bd3-e82b-49ea-b321-9c4b6d494e1e",
   "metadata": {},
   "outputs": [
    {
     "data": {
      "text/html": [
       "<table class=\"dataframe\">\n",
       "<caption>A psych: 5 × 13</caption>\n",
       "<thead>\n",
       "\t<tr><th></th><th scope=col>vars</th><th scope=col>n</th><th scope=col>mean</th><th scope=col>sd</th><th scope=col>median</th><th scope=col>trimmed</th><th scope=col>mad</th><th scope=col>min</th><th scope=col>max</th><th scope=col>range</th><th scope=col>skew</th><th scope=col>kurtosis</th><th scope=col>se</th></tr>\n",
       "\t<tr><th></th><th scope=col>&lt;int&gt;</th><th scope=col>&lt;dbl&gt;</th><th scope=col>&lt;dbl&gt;</th><th scope=col>&lt;dbl&gt;</th><th scope=col>&lt;dbl&gt;</th><th scope=col>&lt;dbl&gt;</th><th scope=col>&lt;dbl&gt;</th><th scope=col>&lt;dbl&gt;</th><th scope=col>&lt;dbl&gt;</th><th scope=col>&lt;dbl&gt;</th><th scope=col>&lt;dbl&gt;</th><th scope=col>&lt;dbl&gt;</th><th scope=col>&lt;dbl&gt;</th></tr>\n",
       "</thead>\n",
       "<tbody>\n",
       "\t<tr><th scope=row>PHYSHLTH</th><td>1</td><td>118494</td><td>  1.0546948</td><td>  2.3005477</td><td>  0.00</td><td>  0.42942740</td><td>  0.000000</td><td>  0</td><td> 10.00</td><td> 10.00</td><td> 2.51382462</td><td> 5.8191738</td><td>0.0066831784</td></tr>\n",
       "\t<tr><th scope=row>SMOKDAY2</th><td>2</td><td>118494</td><td>  2.4754756</td><td>  0.8273542</td><td>  3.00</td><td>  2.59433942</td><td>  0.000000</td><td>  1</td><td>  3.00</td><td>  2.00</td><td>-1.07430983</td><td>-0.6777369</td><td>0.0024034954</td></tr>\n",
       "\t<tr><th scope=row>ALCDAY5</th><td>3</td><td>118494</td><td>513.3466673</td><td>356.5110085</td><td>218.00</td><td>517.98349086</td><td>173.464200</td><td>101</td><td>888.00</td><td>787.00</td><td> 0.08037268</td><td>-1.9539099</td><td>1.0356780325</td></tr>\n",
       "\t<tr><th scope=row>EXERANY2</th><td>4</td><td>118494</td><td>  1.2439195</td><td>  0.4294466</td><td>  1.00</td><td>  1.17990211</td><td>  0.000000</td><td>  1</td><td>  2.00</td><td>  1.00</td><td> 1.19259689</td><td>-0.5777175</td><td>0.0012475586</td></tr>\n",
       "\t<tr><th scope=row>ALCDRINKDAY</th><td>5</td><td>118494</td><td>  0.1215499</td><td>  0.1838946</td><td>  0.03</td><td>  0.08028946</td><td>  0.044478</td><td>  0</td><td>  0.71</td><td>  0.71</td><td> 1.71300535</td><td> 2.0382922</td><td>0.0005342209</td></tr>\n",
       "</tbody>\n",
       "</table>\n"
      ],
      "text/latex": [
       "A psych: 5 × 13\n",
       "\\begin{tabular}{r|lllllllllllll}\n",
       "  & vars & n & mean & sd & median & trimmed & mad & min & max & range & skew & kurtosis & se\\\\\n",
       "  & <int> & <dbl> & <dbl> & <dbl> & <dbl> & <dbl> & <dbl> & <dbl> & <dbl> & <dbl> & <dbl> & <dbl> & <dbl>\\\\\n",
       "\\hline\n",
       "\tPHYSHLTH & 1 & 118494 &   1.0546948 &   2.3005477 &   0.00 &   0.42942740 &   0.000000 &   0 &  10.00 &  10.00 &  2.51382462 &  5.8191738 & 0.0066831784\\\\\n",
       "\tSMOKDAY2 & 2 & 118494 &   2.4754756 &   0.8273542 &   3.00 &   2.59433942 &   0.000000 &   1 &   3.00 &   2.00 & -1.07430983 & -0.6777369 & 0.0024034954\\\\\n",
       "\tALCDAY5 & 3 & 118494 & 513.3466673 & 356.5110085 & 218.00 & 517.98349086 & 173.464200 & 101 & 888.00 & 787.00 &  0.08037268 & -1.9539099 & 1.0356780325\\\\\n",
       "\tEXERANY2 & 4 & 118494 &   1.2439195 &   0.4294466 &   1.00 &   1.17990211 &   0.000000 &   1 &   2.00 &   1.00 &  1.19259689 & -0.5777175 & 0.0012475586\\\\\n",
       "\tALCDRINKDAY & 5 & 118494 &   0.1215499 &   0.1838946 &   0.03 &   0.08028946 &   0.044478 &   0 &   0.71 &   0.71 &  1.71300535 &  2.0382922 & 0.0005342209\\\\\n",
       "\\end{tabular}\n"
      ],
      "text/markdown": [
       "\n",
       "A psych: 5 × 13\n",
       "\n",
       "| <!--/--> | vars &lt;int&gt; | n &lt;dbl&gt; | mean &lt;dbl&gt; | sd &lt;dbl&gt; | median &lt;dbl&gt; | trimmed &lt;dbl&gt; | mad &lt;dbl&gt; | min &lt;dbl&gt; | max &lt;dbl&gt; | range &lt;dbl&gt; | skew &lt;dbl&gt; | kurtosis &lt;dbl&gt; | se &lt;dbl&gt; |\n",
       "|---|---|---|---|---|---|---|---|---|---|---|---|---|---|\n",
       "| PHYSHLTH | 1 | 118494 |   1.0546948 |   2.3005477 |   0.00 |   0.42942740 |   0.000000 |   0 |  10.00 |  10.00 |  2.51382462 |  5.8191738 | 0.0066831784 |\n",
       "| SMOKDAY2 | 2 | 118494 |   2.4754756 |   0.8273542 |   3.00 |   2.59433942 |   0.000000 |   1 |   3.00 |   2.00 | -1.07430983 | -0.6777369 | 0.0024034954 |\n",
       "| ALCDAY5 | 3 | 118494 | 513.3466673 | 356.5110085 | 218.00 | 517.98349086 | 173.464200 | 101 | 888.00 | 787.00 |  0.08037268 | -1.9539099 | 1.0356780325 |\n",
       "| EXERANY2 | 4 | 118494 |   1.2439195 |   0.4294466 |   1.00 |   1.17990211 |   0.000000 |   1 |   2.00 |   1.00 |  1.19259689 | -0.5777175 | 0.0012475586 |\n",
       "| ALCDRINKDAY | 5 | 118494 |   0.1215499 |   0.1838946 |   0.03 |   0.08028946 |   0.044478 |   0 |   0.71 |   0.71 |  1.71300535 |  2.0382922 | 0.0005342209 |\n",
       "\n"
      ],
      "text/plain": [
       "            vars n      mean        sd          median trimmed      mad       \n",
       "PHYSHLTH    1    118494   1.0546948   2.3005477   0.00   0.42942740   0.000000\n",
       "SMOKDAY2    2    118494   2.4754756   0.8273542   3.00   2.59433942   0.000000\n",
       "ALCDAY5     3    118494 513.3466673 356.5110085 218.00 517.98349086 173.464200\n",
       "EXERANY2    4    118494   1.2439195   0.4294466   1.00   1.17990211   0.000000\n",
       "ALCDRINKDAY 5    118494   0.1215499   0.1838946   0.03   0.08028946   0.044478\n",
       "            min max    range  skew        kurtosis   se          \n",
       "PHYSHLTH      0  10.00  10.00  2.51382462  5.8191738 0.0066831784\n",
       "SMOKDAY2      1   3.00   2.00 -1.07430983 -0.6777369 0.0024034954\n",
       "ALCDAY5     101 888.00 787.00  0.08037268 -1.9539099 1.0356780325\n",
       "EXERANY2      1   2.00   1.00  1.19259689 -0.5777175 0.0012475586\n",
       "ALCDRINKDAY   0   0.71   0.71  1.71300535  2.0382922 0.0005342209"
      ]
     },
     "metadata": {},
     "output_type": "display_data"
    }
   ],
   "source": [
    "#using describe to see descriptive stats on all variables\n",
    "#note alcday5 is still in the dataframe, I did not want to remove it for the sake of seeing how it would pan out. \n",
    "Q14 <- describe(final_project_df)\n",
    "\n",
    "Q14"
   ]
  },
  {
   "cell_type": "markdown",
   "id": "77681dc7-1f95-4e6c-bdda-c3bd7d7ef74e",
   "metadata": {},
   "source": [
    "PHYSHLTH - For this variable, it is important to note the mean and median. Although the mean is 1.05, the median is 0. This indicates that there must have been a lot more entries just at the 0 value versus the other 30 possible entries. The skew of 2.51 would also indicate the most of the entered values would be towards the left, which checks out when plotted as a histogram. The mean to me also indicates that most people generally feel well most of the month but it feels more realistic than the 0 number the median generated which makes it seem more like everyone is always feeling good. The standard deviation in comparison to the mean is also showing that the data points are spread out.\n",
    "\n",
    "SMOKDAY2 - For this variable, the median would indicate that the majority of people have not smoked within the past 30 days. The mean shows that on average the typical participant lies between non-smoking and smoking some. Our skew is now negative because most people are non-smoking which is actually now the highest value on our graph versus the lowest value as seen in our first variable. The standard deviation compared to our mean in this variable would indicated that the points are not spread out very widely.\n",
    "\n",
    "ALCDAY5 - This column is basically a non-factor at this point as the data from this column was converted into more usable data by breaking it down to a per day basis in the ALCDRINKDAY column. All the values are higher in this column for two reasons. The first is I did not clean out the very high integer based answers that really did not mean anything (don’t know/not sure and refusal to answer) and I did not convert the very high integer of 888 which really means zero. Secondly, since the per week and per month basis started with an indicator of the value of 1 or 2, all of the values are pushed up much higher, which is why cleaning it and making it per day work outs much better.\n",
    "\n",
    "ALCDRINKDAY - Similar to our first variable, the median is showing a median of zero drinks per day for the participants, while the mean is showing that on average a participant drinks about 0.11 of a drink a day. With 30 days in a month it translates to roughly 3 drinks within the past 30 days versus the median of 0 drinks in the past 30 days. This means that if we visualize the data as we did before, we should see a skew, and in this case based on the type of data entered it is a positive skew. The standard deviation versus the mean would indicate the data points are spread out relatively widely.\n",
    "\n",
    "EXERANY2 - With only two options for an answer, this data is relatively easy to interpret. The median of 1 would indicate the majority of participants have exercised within the past 30 days, and with a mean that is also pretty close at a number of 1.29, it would support the idea that most participants have exercised within the past 30 days. The standard deviation would also indicate that the data points are not spread out much, which makes sense since there was only two options."
   ]
  },
  {
   "cell_type": "markdown",
   "id": "c9b568b6-fcf5-41f4-baaa-a7686c4c74b2",
   "metadata": {},
   "source": [
    "## Running Linear Regression Models"
   ]
  },
  {
   "cell_type": "code",
   "execution_count": 19,
   "id": "be71ead5-830e-4108-b44f-268286627f33",
   "metadata": {},
   "outputs": [
    {
     "data": {
      "text/plain": [
       "\n",
       "Call:\n",
       "lm(formula = PHYSHLTH ~ EXERANY2, data = final_project_df)\n",
       "\n",
       "Residuals:\n",
       "    Min      1Q  Median      3Q     Max \n",
       "-1.3534 -0.9583 -0.9583 -0.3534  9.0417 \n",
       "\n",
       "Coefficients:\n",
       "            Estimate Std. Error t value Pr(>|t|)    \n",
       "(Intercept) 0.958344   0.007665  125.03   <2e-16 ***\n",
       "EXERANY22   0.395010   0.015520   25.45   <2e-16 ***\n",
       "---\n",
       "Signif. codes:  0 '***' 0.001 '**' 0.01 '*' 0.05 '.' 0.1 ' ' 1\n",
       "\n",
       "Residual standard error: 2.294 on 118492 degrees of freedom\n",
       "Multiple R-squared:  0.005437,\tAdjusted R-squared:  0.005429 \n",
       "F-statistic: 647.8 on 1 and 118492 DF,  p-value: < 2.2e-16\n"
      ]
     },
     "metadata": {},
     "output_type": "display_data"
    }
   ],
   "source": [
    "#creating factors for the exerany2 column and the smokeday2 columns\n",
    "final_project_df$EXERANY2 <- factor(final_project_df$EXERANY2, levels = c(1,2))\n",
    "#final_project_df$SMOKDAY2 <- factor(final_project_df$SMOKDAY2, levels = c(1,2,3))\n",
    "\n",
    "#First LM and summary with EXERANY2\n",
    "EXER_pred_lm <- lm(PHYSHLTH~ EXERANY2, data = final_project_df)\n",
    "EXER_pred_summary<- summary(EXER_pred_lm)\n",
    "\n",
    "#Second LM and summary with ALCDRINKDAY + SMOKDAY2\n",
    "ALC_SMOKE_predictors_lm <- lm(PHYSHLTH ~ ALCDRINKDAY + SMOKDAY2, data = final_project_df)\n",
    "ALC_SMOKE_summary <- summary(ALC_SMOKE_predictors_lm)\n",
    "\n",
    "#Third LM and summary with ALCDRINKDAY + EXERANY2\n",
    "SMOK_EXER_predictors_lm <- lm(PHYSHLTH ~ SMOKDAY2 + EXERANY2, data = final_project_df)\n",
    "SMOK_EXER_pred_summary <- summary(SMOK_EXER_predictors_lm)\n",
    "\n",
    "#Running summaries of the 3 Linear models\n",
    "EXER_pred_summary"
   ]
  },
  {
   "cell_type": "code",
   "execution_count": 20,
   "id": "9260f0c8-ff80-426b-920a-c01239f71c9e",
   "metadata": {},
   "outputs": [
    {
     "data": {
      "text/plain": [
       "\n",
       "Call:\n",
       "lm(formula = PHYSHLTH ~ ALCDRINKDAY + SMOKDAY2, data = final_project_df)\n",
       "\n",
       "Residuals:\n",
       "    Min      1Q  Median      3Q     Max \n",
       "-1.2398 -1.0613 -1.0306 -0.1782  9.2509 \n",
       "\n",
       "Coefficients:\n",
       "             Estimate Std. Error t value Pr(>|t|)    \n",
       "(Intercept)  1.329054   0.021335   62.29   <2e-16 ***\n",
       "ALCDRINKDAY -0.439773   0.036344  -12.10   <2e-16 ***\n",
       "SMOKDAY2    -0.089237   0.008078  -11.05   <2e-16 ***\n",
       "---\n",
       "Signif. codes:  0 '***' 0.001 '**' 0.01 '*' 0.05 '.' 0.1 ' ' 1\n",
       "\n",
       "Residual standard error: 2.298 on 118491 degrees of freedom\n",
       "Multiple R-squared:  0.002378,\tAdjusted R-squared:  0.002361 \n",
       "F-statistic: 141.2 on 2 and 118491 DF,  p-value: < 2.2e-16\n"
      ]
     },
     "metadata": {},
     "output_type": "display_data"
    }
   ],
   "source": [
    "ALC_SMOKE_summary"
   ]
  },
  {
   "cell_type": "code",
   "execution_count": 21,
   "id": "2bf97036-3c22-4da5-b510-a8b2f999b7da",
   "metadata": {},
   "outputs": [
    {
     "data": {
      "text/plain": [
       "\n",
       "Call:\n",
       "lm(formula = PHYSHLTH ~ SMOKDAY2 + EXERANY2, data = final_project_df)\n",
       "\n",
       "Residuals:\n",
       "    Min      1Q  Median      3Q     Max \n",
       "-1.4511 -1.0707 -0.9232 -0.3036  9.0768 \n",
       "\n",
       "Coefficients:\n",
       "             Estimate Std. Error t value Pr(>|t|)    \n",
       "(Intercept)  1.144495   0.021823   52.45   <2e-16 ***\n",
       "SMOKDAY2    -0.073756   0.008096   -9.11   <2e-16 ***\n",
       "EXERANY22    0.380377   0.015598   24.39   <2e-16 ***\n",
       "---\n",
       "Signif. codes:  0 '***' 0.001 '**' 0.01 '*' 0.05 '.' 0.1 ' ' 1\n",
       "\n",
       "Residual standard error: 2.294 on 118491 degrees of freedom\n",
       "Multiple R-squared:  0.006133,\tAdjusted R-squared:  0.006117 \n",
       "F-statistic: 365.6 on 2 and 118491 DF,  p-value: < 2.2e-16\n"
      ]
     },
     "metadata": {},
     "output_type": "display_data"
    }
   ],
   "source": [
    "SMOK_EXER_pred_summary"
   ]
  },
  {
   "cell_type": "markdown",
   "id": "1239dcad-625d-4ee5-8342-f2d77fd5c6ed",
   "metadata": {},
   "source": [
    "## Running AIC on the models"
   ]
  },
  {
   "cell_type": "code",
   "execution_count": 22,
   "id": "c06501e0-ac67-431f-9ada-f9309c8294d6",
   "metadata": {},
   "outputs": [
    {
     "data": {
      "text/html": [
       "533076.267223925"
      ],
      "text/latex": [
       "533076.267223925"
      ],
      "text/markdown": [
       "533076.267223925"
      ],
      "text/plain": [
       "[1] 533076.3"
      ]
     },
     "metadata": {},
     "output_type": "display_data"
    }
   ],
   "source": [
    "#Running AIC for the 3 Linear models\n",
    "AIC(EXER_pred_lm)"
   ]
  },
  {
   "cell_type": "code",
   "execution_count": 23,
   "id": "770b387c-d0e4-4e87-881d-12c93b13ee37",
   "metadata": {},
   "outputs": [
    {
     "data": {
      "text/html": [
       "533442.219694939"
      ],
      "text/latex": [
       "533442.219694939"
      ],
      "text/markdown": [
       "533442.219694939"
      ],
      "text/plain": [
       "[1] 533442.2"
      ]
     },
     "metadata": {},
     "output_type": "display_data"
    }
   ],
   "source": [
    "AIC(ALC_SMOKE_predictors_lm)"
   ]
  },
  {
   "cell_type": "code",
   "execution_count": 24,
   "id": "d52c860d-0eb4-46a1-a895-dfd2ff6f59a2",
   "metadata": {},
   "outputs": [
    {
     "data": {
      "text/html": [
       "532995.301031494"
      ],
      "text/latex": [
       "532995.301031494"
      ],
      "text/markdown": [
       "532995.301031494"
      ],
      "text/plain": [
       "[1] 532995.3"
      ]
     },
     "metadata": {},
     "output_type": "display_data"
    }
   ],
   "source": [
    "AIC(SMOK_EXER_predictors_lm)"
   ]
  },
  {
   "cell_type": "code",
   "execution_count": 25,
   "id": "1b1cf2c7-d749-462e-908c-50a2a4d3d770",
   "metadata": {},
   "outputs": [
    {
     "data": {
      "text/plain": [
       "\n",
       "Call:\n",
       "lm(formula = PHYSHLTH ~ SMOKDAY2 + EXERANY2, data = final_project_df)\n",
       "\n",
       "Coefficients:\n",
       "(Intercept)     SMOKDAY2    EXERANY22  \n",
       "    1.14449     -0.07376      0.38038  \n"
      ]
     },
     "metadata": {},
     "output_type": "display_data"
    }
   ],
   "source": [
    "#Best Model\n",
    "Q15 <- SMOK_EXER_predictors_lm\n",
    "\n",
    "Q15"
   ]
  },
  {
   "cell_type": "markdown",
   "id": "f37f2e04-6721-4167-884a-ef068ca4952b",
   "metadata": {},
   "source": [
    "I ran 3 different linear models to determine amount of days feeling not well. The first model makes sense because it is adding time to the days not feeling well if you dont exercise. Not only does this logically make sense, but it supports what we saw with our correlation earlier in the scatterplot.\n",
    "\n",
    "The second model is the worst model for various reasons. The first reason is it has the worst AIC when calculated. The second reason is that our alcdrinkday column is actually taking away time for days not feeling well instead of adding, so although the data supports this I know logically it does not make much sense.\n",
    "\n",
    "The third model is the best for a few reasons. First off it has the best AIC. Secondly, when you carefully examine the data, the estimates make sense. So at first I tried to factor the smoking variable and although it produced logical results one of the factors was deemed non-significant. Now when ran it still makes sense when you think about what could be entered for the smoking variable. The answer of one is being used as the standard, with two and three being the other two answers. If you plug 2 into the equation, you get a positive number, hence you add days to feeling not well. If you plug 3 in (which equates to never smoking in the past thirty days) then it turns out to be negative, which would take days away from not feeling well. Also this model adds time for those who have no exercised within the past 30 days which also makes real world sense. In the end I don’t think any of the models work out great because the data was so skewed, but this one between logic and AIC makes me think it is the best one."
   ]
  }
 ],
 "metadata": {
  "kernelspec": {
   "display_name": "R",
   "language": "R",
   "name": "ir"
  },
  "language_info": {
   "codemirror_mode": "r",
   "file_extension": ".r",
   "mimetype": "text/x-r-source",
   "name": "R",
   "pygments_lexer": "r",
   "version": "4.4.3"
  }
 },
 "nbformat": 4,
 "nbformat_minor": 5
}
